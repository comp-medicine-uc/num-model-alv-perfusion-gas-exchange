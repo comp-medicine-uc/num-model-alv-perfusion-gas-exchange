{
 "cells": [
  {
   "cell_type": "markdown",
   "metadata": {},
   "source": [
    "# Simulations on a sheet domain"
   ]
  },
  {
   "cell_type": "markdown",
   "metadata": {},
   "source": [
    "The following notebook contains sample code for simulating gas exchange on an infinite sheet geometry using the model outlined in Zurita & Hurtado (2022)."
   ]
  },
  {
   "cell_type": "markdown",
   "metadata": {},
   "source": [
    "First we import necessary libraries and add important directories to the system path."
   ]
  },
  {
   "cell_type": "code",
   "execution_count": 1,
   "metadata": {},
   "outputs": [],
   "source": [
    "import sys\n",
    "import os\n",
    "import dolfin\n",
    "import matplotlib.pyplot as plt\n",
    "plt.style.use('ggplot')  # This is just an aesthetic choice for graphs\n",
    "import pyvista as pv\n",
    "sys.path.append(os.getcwd()[:-6])"
   ]
  },
  {
   "cell_type": "markdown",
   "metadata": {},
   "source": [
    "Following that, we import the main simulation class and parameter dictionary from the model source files."
   ]
  },
  {
   "cell_type": "code",
   "execution_count": 2,
   "metadata": {},
   "outputs": [],
   "source": [
    "from src.model import PerfusionGasExchangeModel\n",
    "from src.params import params"
   ]
  },
  {
   "cell_type": "markdown",
   "metadata": {},
   "source": [
    "Now we outline the folder name and the path to save raw data files."
   ]
  },
  {
   "cell_type": "code",
   "execution_count": 3,
   "metadata": {},
   "outputs": [],
   "source": [
    "folder = \"sheet-notebook\"\n",
    "path = os.path.join(\"../raw-data\", folder)"
   ]
  },
  {
   "cell_type": "markdown",
   "metadata": {},
   "source": [
    "Now we run the solver. First, we instance the model. Then, we generate the mesh that mimics an infinite sheet geometry. Afterwards we prescribe the blood velocity $\\boldsymbol{u}$ and simulate the steady transport problem _without_ hemoglobin effects. Finally, we run the actual full model using the previous solution as an initial guess for the Newton iteration, and save the boundary data."
   ]
  },
  {
   "cell_type": "code",
   "execution_count": 4,
   "metadata": {},
   "outputs": [
    {
     "name": "stdout",
     "output_type": "stream",
     "text": [
      "No Jacobian form specified for nonlinear variational problem.\n",
      "Differentiating residual form F to obtain Jacobian J = F'.\n",
      "Solving nonlinear variational problem.\n",
      "  Newton iteration 0: r (abs) = 3.817e+07 (tol = 1.000e-08) r (rel) = 1.000e+00 (tol = 1.000e-08)\n",
      "  Newton iteration 1: r (abs) = 3.884e-08 (tol = 1.000e-08) r (rel) = 1.018e-15 (tol = 1.000e-08)\n",
      "  Newton solver finished in 1 iterations and 1 linear solver iterations.\n",
      "No Jacobian form specified for nonlinear variational problem.\n",
      "Differentiating residual form F to obtain Jacobian J = F'.\n",
      "Solving nonlinear variational problem.\n",
      "  Newton iteration 0: r (abs) = 1.322e+09 (tol = 1.000e-08) r (rel) = 1.000e+00 (tol = 1.000e-08)\n",
      "  Newton iteration 1: r (abs) = 6.241e+07 (tol = 1.000e-08) r (rel) = 4.721e-02 (tol = 1.000e-08)\n",
      "  Newton iteration 2: r (abs) = 4.215e+06 (tol = 1.000e-08) r (rel) = 3.189e-03 (tol = 1.000e-08)\n",
      "  Newton iteration 3: r (abs) = 8.084e+04 (tol = 1.000e-08) r (rel) = 6.116e-05 (tol = 1.000e-08)\n",
      "  Newton iteration 4: r (abs) = 3.977e+01 (tol = 1.000e-08) r (rel) = 3.009e-08 (tol = 1.000e-08)\n",
      "  Newton iteration 5: r (abs) = 1.184e-05 (tol = 1.000e-08) r (rel) = 8.958e-15 (tol = 1.000e-08)\n",
      "  Newton solver finished in 5 iterations and 5 linear solver iterations.\n"
     ]
    }
   ],
   "source": [
    "model = PerfusionGasExchangeModel(folder_path=path, params=params)\n",
    "model.generate_sheet_mesh(\n",
    "    dims=(300, 6, 6), elems=(100, 5, 5), save=True, periodic=True, refined=True\n",
    ")\n",
    "model.set_u(value=(400, 0, 0), save=True)\n",
    "x = model.sim_t(hb=False, save=False)\n",
    "solution = model.sim_t(hb=True, save=True, guess=x)\n",
    "boundaries = dolfin.File(model.folder_path+'/bnd/bnd.pvd')\n",
    "boundaries << model.boundaries"
   ]
  },
  {
   "cell_type": "markdown",
   "metadata": {},
   "source": [
    "Now we use `PyVista` to visualize our results."
   ]
  },
  {
   "cell_type": "code",
   "execution_count": 5,
   "metadata": {},
   "outputs": [
    {
     "name": "stderr",
     "output_type": "stream",
     "text": [
      "/home/pzuritas/.local/lib/python3.8/site-packages/pyvista/plotting/plotting.py:115: UserWarning: \n",
      "This system does not appear to be running an xserver.\n",
      "PyVista will likely segfault when rendering.\n",
      "\n",
      "Try starting a virtual frame buffer with xvfb, or using\n",
      "  ``pyvista.start_xvfb()``\n",
      "\n",
      "  warnings.warn(\n"
     ]
    },
    {
     "data": {
      "application/vnd.jupyter.widget-view+json": {
       "model_id": "8e0c17d93eb94a30946d29a3378bebd4",
       "version_major": 2,
       "version_minor": 0
      },
      "text/plain": [
       "AppLayout(children=(VBox(children=(HTML(value='<h3>p_O2</h3>'), Dropdown(description='Colormap:', options={'Br…"
      ]
     },
     "metadata": {},
     "output_type": "display_data"
    }
   ],
   "source": [
    "mesh = pv.read(os.path.join(path,'sbst','pO2000000.vtu'))\n",
    "mesh.plot(jupyter_backend='pythreejs')"
   ]
  }
 ],
 "metadata": {
  "interpreter": {
   "hash": "916dbcbb3f70747c44a77c7bcd40155683ae19c65e1c03b4aa3499c5328201f1"
  },
  "kernelspec": {
   "display_name": "Python 3 (ipykernel)",
   "language": "python",
   "name": "python3"
  },
  "language_info": {
   "codemirror_mode": {
    "name": "ipython",
    "version": 3
   },
   "file_extension": ".py",
   "mimetype": "text/x-python",
   "name": "python",
   "nbconvert_exporter": "python",
   "pygments_lexer": "ipython3",
   "version": "3.8.10"
  }
 },
 "nbformat": 4,
 "nbformat_minor": 2
}
