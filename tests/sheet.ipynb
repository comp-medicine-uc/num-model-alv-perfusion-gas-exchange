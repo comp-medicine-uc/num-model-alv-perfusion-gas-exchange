{
 "cells": [
  {
   "cell_type": "markdown",
   "metadata": {},
   "source": [
    "# Simulations on a sheet domain"
   ]
  },
  {
   "cell_type": "markdown",
   "metadata": {},
   "source": [
    "The following notebook contains sample code for simulating gas exchange on an infinite sheet geometry using the model outlined in Zurita & Hurtado (2022)."
   ]
  },
  {
   "cell_type": "markdown",
   "metadata": {},
   "source": [
    "First we import necessary libraries and add important directories to the system path."
   ]
  },
  {
   "cell_type": "code",
   "execution_count": 1,
   "metadata": {},
   "outputs": [],
   "source": [
    "import sys\n",
    "import os\n",
    "import dolfin\n",
    "import pyvista as pv\n",
    "sys.path.append(os.getcwd()[:-6])\n",
    "pv.set_jupyter_backend('ipyvtklink')"
   ]
  },
  {
   "cell_type": "markdown",
   "metadata": {},
   "source": [
    "Following that, we import the main simulation class and parameter dictionary from the model source files."
   ]
  },
  {
   "cell_type": "code",
   "execution_count": 2,
   "metadata": {},
   "outputs": [],
   "source": [
    "from src.model import PerfusionGasExchangeModel\n",
    "from src.params import params"
   ]
  },
  {
   "cell_type": "markdown",
   "metadata": {},
   "source": [
    "Now we outline the folder name and the path to save raw data files."
   ]
  },
  {
   "cell_type": "code",
   "execution_count": 2,
   "metadata": {},
   "outputs": [],
   "source": [
    "folder = \"sheet-notebook\"\n",
    "path = os.path.join(\"../raw-data\", folder)"
   ]
  },
  {
   "cell_type": "markdown",
   "metadata": {},
   "source": [
    "Now we run the solver. First, we instance the model. Then, we generate the mesh that mimics an infinite sheet geometry. Afterwards we prescribe the blood velocity $\\boldsymbol{u}$ and simulate the transport problem _without_ hemoglobin effects. Finally, we run the actual full model using the previous solution as an initial guess for the Newton iteration, and save the boundary data."
   ]
  },
  {
   "cell_type": "code",
   "execution_count": null,
   "metadata": {},
   "outputs": [],
   "source": [
    "model = PerfusionGasExchangeModel(folder_path=path, params=params)\n",
    "model.generate_sheet_mesh(\n",
    "    dims=(300, 6, 6), elems=(100, 5, 5), save=True, periodic=True, refined=True\n",
    ")\n",
    "model.set_u(value=(400, 0, 0), save=True)\n",
    "x = model.sim_t(hb=False, save=False)\n",
    "solution = model.sim_t(hb=True, save=True, guess=x)\n",
    "boundaries = dolfin.File(model.folder_path+'/bnd/bnd.pvd')\n",
    "boundaries << model.boundaries"
   ]
  },
  {
   "cell_type": "markdown",
   "metadata": {},
   "source": [
    "Now we use `PyVista` to visualize our results."
   ]
  },
  {
   "cell_type": "code",
   "execution_count": null,
   "metadata": {},
   "outputs": [
    {
     "name": "stderr",
     "output_type": "stream",
     "text": [
      "/home/pzurita/.local/lib/python3.10/site-packages/pyvista/plotting/plotting.py:131: UserWarning: \n",
      "This system does not appear to be running an xserver.\n",
      "PyVista will likely segfault when rendering.\n",
      "\n",
      "Try starting a virtual frame buffer with xvfb, or using\n",
      "  ``pyvista.start_xvfb()``\n",
      "\n",
      "  warnings.warn(\n"
     ]
    }
   ],
   "source": [
    "plotter = pv.Plotter(shape=(2, 2))\n",
    "\n",
    "plotter.subplot(0, 0)\n",
    "plotter.add_text(\"Oxygen partial pressure\")\n",
    "filename = os.path.join(path, \"t\", \"pO2000000.vtu\")\n",
    "reader = pv.get_reader(filename)\n",
    "mesh = reader.read()\n",
    "plotter.add_mesh(mesh, scalars=\"p_O2\")\n",
    "\n",
    "plotter.subplot(0, 1)\n",
    "plotter.add_text(\"Carbon dioxide partial pressure\")\n",
    "filename = os.path.join(path, \"t\", \"pCO2000000.vtu\")\n",
    "reader = pv.get_reader(filename)\n",
    "mesh = reader.read()\n",
    "plotter.add_mesh(mesh, scalars=\"p_CO2\")\n",
    "\n",
    "plotter.subplot(1, 0)\n",
    "plotter.add_text(\"Oxyhemoglobin concentration\")\n",
    "filename = os.path.join(path, \"t\", \"cHbO2000000.vtu\")\n",
    "reader = pv.get_reader(filename)\n",
    "mesh = reader.read()\n",
    "plotter.add_mesh(mesh, scalars=\"c_HbO2\")\n",
    "\n",
    "plotter.subplot(1, 1)\n",
    "plotter.add_text(\"Carbaminohemoglobin concentration\")\n",
    "filename = os.path.join(path, \"t\", \"cHbCO2000000.vtu\")\n",
    "reader = pv.get_reader(filename)\n",
    "mesh = reader.read()\n",
    "plotter.add_mesh(mesh, scalars=\"c_HbCO2\")\n",
    "\n",
    "plotter.show()"
   ]
  },
  {
   "cell_type": "code",
   "execution_count": null,
   "metadata": {},
   "outputs": [],
   "source": []
  }
 ],
 "metadata": {
  "interpreter": {
   "hash": "916dbcbb3f70747c44a77c7bcd40155683ae19c65e1c03b4aa3499c5328201f1"
  },
  "kernelspec": {
   "display_name": "Python 3 (ipykernel)",
   "language": "python",
   "name": "python3"
  },
  "language_info": {
   "codemirror_mode": {
    "name": "ipython",
    "version": 3
   },
   "file_extension": ".py",
   "mimetype": "text/x-python",
   "name": "python",
   "nbconvert_exporter": "python",
   "pygments_lexer": "ipython3",
   "version": "3.10.6"
  }
 },
 "nbformat": 4,
 "nbformat_minor": 4
}
