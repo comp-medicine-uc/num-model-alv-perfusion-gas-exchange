{
 "cells": [
  {
   "cell_type": "markdown",
   "metadata": {},
   "source": [
    "# Test simulations on a TKD mesh"
   ]
  },
  {
   "cell_type": "markdown",
   "metadata": {},
   "source": [
    "The following notebook outlines a sample simulation of the perfusion and gas exchange model on a periodic mesh mimicking an acinus as a collection of tetrakaidecahedral alveoli. We consider an infinite packing of tetrakaidecahedra, each one of which represents a single, $200 \\, \\mu \\text{m}$ alveolus."
   ]
  },
  {
   "cell_type": "markdown",
   "metadata": {},
   "source": [
    "Import necessary packages and add the working directory to the system path."
   ]
  },
  {
   "cell_type": "code",
   "execution_count": 1,
   "metadata": {},
   "outputs": [],
   "source": [
    "import sys\n",
    "import os\n",
    "import dolfin\n",
    "import pandas as pd\n",
    "import numpy as np\n",
    "import matplotlib.pyplot as plt\n",
    "plt.style.use('ggplot')\n",
    "sys.path.append(os.getcwd()[:-6])"
   ]
  },
  {
   "cell_type": "markdown",
   "metadata": {},
   "source": [
    "Import the model modules."
   ]
  },
  {
   "cell_type": "code",
   "execution_count": 2,
   "metadata": {},
   "outputs": [],
   "source": [
    "from src.model import PerfusionGasExchangeModel\n",
    "from src.params import params"
   ]
  },
  {
   "cell_type": "markdown",
   "metadata": {},
   "source": [
    "Set a target folder for `vtk` files."
   ]
  },
  {
   "cell_type": "code",
   "execution_count": 3,
   "metadata": {},
   "outputs": [],
   "source": [
    "folder = \"tkd-fine\"\n",
    "path = os.path.join(\"../raw-data\", folder)"
   ]
  },
  {
   "cell_type": "markdown",
   "metadata": {},
   "source": [
    "Instance the model and run simulation."
   ]
  },
  {
   "cell_type": "code",
   "execution_count": 4,
   "metadata": {},
   "outputs": [
    {
     "name": "stdout",
     "output_type": "stream",
     "text": [
      "Solving linear variational problem.\n",
      "No Jacobian form specified for nonlinear variational problem.\n",
      "Differentiating residual form F to obtain Jacobian J = F'.\n",
      "Solving nonlinear variational problem.\n",
      "  Newton iteration 0: r (abs) = 4.855e+08 (tol = 1.000e-08) r (rel) = 1.000e+00 (tol = 1.000e-08)\n",
      "  Newton iteration 1: r (abs) = 3.103e+04 (tol = 1.000e-08) r (rel) = 6.392e-05 (tol = 1.000e-08)\n",
      "  Newton iteration 2: r (abs) = 2.181e-01 (tol = 1.000e-08) r (rel) = 4.492e-10 (tol = 1.000e-08)\n",
      "  Newton solver finished in 2 iterations and 157 linear solver iterations.\n",
      "No Jacobian form specified for nonlinear variational problem.\n",
      "Differentiating residual form F to obtain Jacobian J = F'.\n",
      "Solving nonlinear variational problem.\n",
      "  Newton iteration 0: r (abs) = 2.869e+10 (tol = 1.000e-08) r (rel) = 1.000e+00 (tol = 1.000e-08)\n",
      "  Newton iteration 1: r (abs) = 2.869e+10 (tol = 1.000e-08) r (rel) = 1.000e+00 (tol = 1.000e-08)\n",
      "  Newton iteration 2: r (abs) = 2.869e+10 (tol = 1.000e-08) r (rel) = 1.000e+00 (tol = 1.000e-08)\n",
      "  Newton iteration 3: r (abs) = 2.869e+10 (tol = 1.000e-08) r (rel) = 1.000e+00 (tol = 1.000e-08)\n",
      "  Newton iteration 4: r (abs) = 2.869e+10 (tol = 1.000e-08) r (rel) = 1.000e+00 (tol = 1.000e-08)\n",
      "  Newton iteration 5: r (abs) = 2.869e+10 (tol = 1.000e-08) r (rel) = 1.000e+00 (tol = 1.000e-08)\n",
      "  Newton iteration 6: r (abs) = 2.869e+10 (tol = 1.000e-08) r (rel) = 1.000e+00 (tol = 1.000e-08)\n",
      "  Newton iteration 7: r (abs) = 2.869e+10 (tol = 1.000e-08) r (rel) = 1.000e+00 (tol = 1.000e-08)\n",
      "  Newton iteration 8: r (abs) = 2.869e+10 (tol = 1.000e-08) r (rel) = 1.000e+00 (tol = 1.000e-08)\n",
      "  Newton iteration 9: r (abs) = 2.868e+10 (tol = 1.000e-08) r (rel) = 1.000e+00 (tol = 1.000e-08)\n",
      "  Newton iteration 10: r (abs) = 2.868e+10 (tol = 1.000e-08) r (rel) = 1.000e+00 (tol = 1.000e-08)\n",
      "  Newton iteration 11: r (abs) = 2.868e+10 (tol = 1.000e-08) r (rel) = 9.999e-01 (tol = 1.000e-08)\n",
      "  Newton iteration 12: r (abs) = 2.868e+10 (tol = 1.000e-08) r (rel) = 9.999e-01 (tol = 1.000e-08)\n",
      "  Newton iteration 13: r (abs) = 2.869e+10 (tol = 1.000e-08) r (rel) = 1.000e+00 (tol = 1.000e-08)\n",
      "  Newton iteration 14: r (abs) = 2.869e+10 (tol = 1.000e-08) r (rel) = 1.000e+00 (tol = 1.000e-08)\n",
      "  Newton iteration 15: r (abs) = 2.868e+10 (tol = 1.000e-08) r (rel) = 9.998e-01 (tol = 1.000e-08)\n",
      "  Newton iteration 16: r (abs) = 2.868e+10 (tol = 1.000e-08) r (rel) = 9.999e-01 (tol = 1.000e-08)\n",
      "  Newton iteration 17: r (abs) = 2.869e+10 (tol = 1.000e-08) r (rel) = 1.000e+00 (tol = 1.000e-08)\n",
      "  Newton iteration 18: r (abs) = 2.869e+10 (tol = 1.000e-08) r (rel) = 1.000e+00 (tol = 1.000e-08)\n",
      "  Newton iteration 19: r (abs) = 1.608e+11 (tol = 1.000e-08) r (rel) = 5.605e+00 (tol = 1.000e-08)\n",
      "  Newton iteration 20: r (abs) = 1.595e+11 (tol = 1.000e-08) r (rel) = 5.559e+00 (tol = 1.000e-08)\n",
      "  Newton iteration 21: r (abs) = 1.117e+12 (tol = 1.000e-08) r (rel) = 3.896e+01 (tol = 1.000e-08)\n",
      "  Newton iteration 22: r (abs) = 1.458e+13 (tol = 1.000e-08) r (rel) = 5.084e+02 (tol = 1.000e-08)\n",
      "  Newton iteration 23: r (abs) = 1.188e+13 (tol = 1.000e-08) r (rel) = 4.142e+02 (tol = 1.000e-08)\n",
      "  Newton iteration 24: r (abs) = 1.252e+13 (tol = 1.000e-08) r (rel) = 4.365e+02 (tol = 1.000e-08)\n",
      "  Newton iteration 25: r (abs) = 1.100e+13 (tol = 1.000e-08) r (rel) = 3.835e+02 (tol = 1.000e-08)\n",
      "  Newton iteration 26: r (abs) = 1.951e+13 (tol = 1.000e-08) r (rel) = 6.801e+02 (tol = 1.000e-08)\n",
      "  Newton iteration 27: r (abs) = 1.628e+13 (tol = 1.000e-08) r (rel) = 5.675e+02 (tol = 1.000e-08)\n",
      "  Newton iteration 28: r (abs) = 3.479e+14 (tol = 1.000e-08) r (rel) = 1.213e+04 (tol = 1.000e-08)\n",
      "  Newton iteration 29: r (abs) = 3.378e+14 (tol = 1.000e-08) r (rel) = 1.178e+04 (tol = 1.000e-08)\n",
      "  Newton iteration 30: r (abs) = 3.352e+14 (tol = 1.000e-08) r (rel) = 1.169e+04 (tol = 1.000e-08)\n",
      "  Newton iteration 31: r (abs) = 3.396e+14 (tol = 1.000e-08) r (rel) = 1.184e+04 (tol = 1.000e-08)\n",
      "  Newton iteration 32: r (abs) = 2.042e+16 (tol = 1.000e-08) r (rel) = 7.118e+05 (tol = 1.000e-08)\n",
      "  Newton iteration 33: r (abs) = 1.181e+18 (tol = 1.000e-08) r (rel) = 4.118e+07 (tol = 1.000e-08)\n",
      "  Newton iteration 34: r (abs) = 1.175e+18 (tol = 1.000e-08) r (rel) = 4.094e+07 (tol = 1.000e-08)\n",
      "  Newton iteration 35: r (abs) = 1.201e+18 (tol = 1.000e-08) r (rel) = 4.189e+07 (tol = 1.000e-08)\n",
      "  Newton iteration 36: r (abs) = 2.721e+18 (tol = 1.000e-08) r (rel) = 9.485e+07 (tol = 1.000e-08)\n",
      "  Newton iteration 37: r (abs) = 2.726e+18 (tol = 1.000e-08) r (rel) = 9.502e+07 (tol = 1.000e-08)\n",
      "  Newton iteration 38: r (abs) = 2.814e+20 (tol = 1.000e-08) r (rel) = 9.812e+09 (tol = 1.000e-08)\n",
      "  Newton iteration 39: r (abs) = 2.834e+21 (tol = 1.000e-08) r (rel) = 9.881e+10 (tol = 1.000e-08)\n",
      "  Newton iteration 40: r (abs) = 2.913e+21 (tol = 1.000e-08) r (rel) = 1.016e+11 (tol = 1.000e-08)\n",
      "  Newton iteration 41: r (abs) = 1.436e+22 (tol = 1.000e-08) r (rel) = 5.006e+11 (tol = 1.000e-08)\n",
      "  Newton iteration 42: r (abs) = 1.548e+22 (tol = 1.000e-08) r (rel) = 5.397e+11 (tol = 1.000e-08)\n",
      "  Newton iteration 43: r (abs) = 1.472e+23 (tol = 1.000e-08) r (rel) = 5.133e+12 (tol = 1.000e-08)\n",
      "  Newton iteration 44: r (abs) = 1.469e+23 (tol = 1.000e-08) r (rel) = 5.121e+12 (tol = 1.000e-08)\n",
      "  Newton iteration 45: r (abs) = 2.272e+23 (tol = 1.000e-08) r (rel) = 7.920e+12 (tol = 1.000e-08)\n",
      "  Newton iteration 46: r (abs) = 1.618e+26 (tol = 1.000e-08) r (rel) = 5.639e+15 (tol = 1.000e-08)\n",
      "  Newton iteration 47: r (abs) = 2.033e+26 (tol = 1.000e-08) r (rel) = 7.086e+15 (tol = 1.000e-08)\n",
      "  Newton iteration 48: r (abs) = 3.032e+27 (tol = 1.000e-08) r (rel) = 1.057e+17 (tol = 1.000e-08)\n",
      "  Newton iteration 49: r (abs) = 3.181e+27 (tol = 1.000e-08) r (rel) = 1.109e+17 (tol = 1.000e-08)\n",
      "  Newton iteration 50: r (abs) = 9.152e+27 (tol = 1.000e-08) r (rel) = 3.190e+17 (tol = 1.000e-08)\n"
     ]
    },
    {
     "ename": "RuntimeError",
     "evalue": "\n\n*** -------------------------------------------------------------------------\n*** DOLFIN encountered an error. If you are not able to resolve this issue\n*** using the information listed below, you can ask for help at\n***\n***     fenics-support@googlegroups.com\n***\n*** Remember to include the error message listed below and, if possible,\n*** include a *minimal* running example to reproduce the error.\n***\n*** -------------------------------------------------------------------------\n*** Error:   Unable to solve nonlinear system with NewtonSolver.\n*** Reason:  Newton solver did not converge because maximum number of iterations reached.\n*** Where:   This error was encountered inside NewtonSolver.cpp.\n*** Process: 0\n*** \n*** DOLFIN version: 2019.1.0\n*** Git changeset:  unknown\n*** -------------------------------------------------------------------------\n",
     "output_type": "error",
     "traceback": [
      "\u001b[0;31m---------------------------------------------------------------------------\u001b[0m",
      "\u001b[0;31mRuntimeError\u001b[0m                              Traceback (most recent call last)",
      "\u001b[0;32m/tmp/ipykernel_25096/2193927917.py\u001b[0m in \u001b[0;36m<module>\u001b[0;34m\u001b[0m\n\u001b[1;32m      5\u001b[0m \u001b[0mmodel\u001b[0m\u001b[0;34m.\u001b[0m\u001b[0msim_p\u001b[0m\u001b[0;34m(\u001b[0m\u001b[0msave\u001b[0m\u001b[0;34m=\u001b[0m\u001b[0;32mTrue\u001b[0m\u001b[0;34m,\u001b[0m \u001b[0mmeshtype\u001b[0m\u001b[0;34m=\u001b[0m\u001b[0;34m\"tkd\"\u001b[0m\u001b[0;34m)\u001b[0m\u001b[0;34m\u001b[0m\u001b[0;34m\u001b[0m\u001b[0m\n\u001b[1;32m      6\u001b[0m \u001b[0mx\u001b[0m \u001b[0;34m=\u001b[0m \u001b[0mmodel\u001b[0m\u001b[0;34m.\u001b[0m\u001b[0msim_sbst\u001b[0m\u001b[0;34m(\u001b[0m\u001b[0mhb\u001b[0m\u001b[0;34m=\u001b[0m\u001b[0;32mFalse\u001b[0m\u001b[0;34m,\u001b[0m \u001b[0msave\u001b[0m\u001b[0;34m=\u001b[0m\u001b[0;32mTrue\u001b[0m\u001b[0;34m)\u001b[0m\u001b[0;34m\u001b[0m\u001b[0;34m\u001b[0m\u001b[0m\n\u001b[0;32m----> 7\u001b[0;31m \u001b[0msolution\u001b[0m \u001b[0;34m=\u001b[0m \u001b[0mmodel\u001b[0m\u001b[0;34m.\u001b[0m\u001b[0msim_sbst\u001b[0m\u001b[0;34m(\u001b[0m\u001b[0mhb\u001b[0m\u001b[0;34m=\u001b[0m\u001b[0;32mTrue\u001b[0m\u001b[0;34m,\u001b[0m \u001b[0msave\u001b[0m\u001b[0;34m=\u001b[0m\u001b[0;32mTrue\u001b[0m\u001b[0;34m,\u001b[0m \u001b[0mguess\u001b[0m\u001b[0;34m=\u001b[0m\u001b[0mx\u001b[0m\u001b[0;34m)\u001b[0m\u001b[0;34m\u001b[0m\u001b[0;34m\u001b[0m\u001b[0m\n\u001b[0m\u001b[1;32m      8\u001b[0m \u001b[0mboundaries\u001b[0m \u001b[0;34m=\u001b[0m \u001b[0mdolfin\u001b[0m\u001b[0;34m.\u001b[0m\u001b[0mFile\u001b[0m\u001b[0;34m(\u001b[0m\u001b[0mmodel\u001b[0m\u001b[0;34m.\u001b[0m\u001b[0mfolder_path\u001b[0m\u001b[0;34m+\u001b[0m\u001b[0;34m'/bnd/bnd.pvd'\u001b[0m\u001b[0;34m)\u001b[0m\u001b[0;34m\u001b[0m\u001b[0;34m\u001b[0m\u001b[0m\n\u001b[1;32m      9\u001b[0m \u001b[0mboundaries\u001b[0m \u001b[0;34m<<\u001b[0m \u001b[0mmodel\u001b[0m\u001b[0;34m.\u001b[0m\u001b[0mboundaries\u001b[0m\u001b[0;34m\u001b[0m\u001b[0;34m\u001b[0m\u001b[0m\n",
      "\u001b[0;32m~/num-model-alv-perfusion-gas-exchange/src/model.py\u001b[0m in \u001b[0;36msim_sbst\u001b[0;34m(self, hb, save, guess)\u001b[0m\n\u001b[1;32m    621\u001b[0m         \u001b[0;31m# Solve variational problem\u001b[0m\u001b[0;34m\u001b[0m\u001b[0;34m\u001b[0m\u001b[0;34m\u001b[0m\u001b[0m\n\u001b[1;32m    622\u001b[0m \u001b[0;34m\u001b[0m\u001b[0m\n\u001b[0;32m--> 623\u001b[0;31m         solve(\n\u001b[0m\u001b[1;32m    624\u001b[0m             \u001b[0mG\u001b[0m \u001b[0;34m==\u001b[0m \u001b[0;36m0\u001b[0m\u001b[0;34m,\u001b[0m \u001b[0mx\u001b[0m\u001b[0;34m,\u001b[0m \u001b[0mself\u001b[0m\u001b[0;34m.\u001b[0m\u001b[0msbst_dbc\u001b[0m\u001b[0;34m,\u001b[0m\u001b[0;34m\u001b[0m\u001b[0;34m\u001b[0m\u001b[0m\n\u001b[1;32m    625\u001b[0m             solver_parameters={\"newton_solver\": {\n",
      "\u001b[0;32m/usr/lib/python3/dist-packages/dolfin/fem/solving.py\u001b[0m in \u001b[0;36msolve\u001b[0;34m(*args, **kwargs)\u001b[0m\n\u001b[1;32m    218\u001b[0m     \u001b[0;31m# tolerance)\u001b[0m\u001b[0;34m\u001b[0m\u001b[0;34m\u001b[0m\u001b[0;34m\u001b[0m\u001b[0m\n\u001b[1;32m    219\u001b[0m     \u001b[0;32melif\u001b[0m \u001b[0misinstance\u001b[0m\u001b[0;34m(\u001b[0m\u001b[0margs\u001b[0m\u001b[0;34m[\u001b[0m\u001b[0;36m0\u001b[0m\u001b[0;34m]\u001b[0m\u001b[0;34m,\u001b[0m \u001b[0mufl\u001b[0m\u001b[0;34m.\u001b[0m\u001b[0mclasses\u001b[0m\u001b[0;34m.\u001b[0m\u001b[0mEquation\u001b[0m\u001b[0;34m)\u001b[0m\u001b[0;34m:\u001b[0m\u001b[0;34m\u001b[0m\u001b[0;34m\u001b[0m\u001b[0m\n\u001b[0;32m--> 220\u001b[0;31m         \u001b[0m_solve_varproblem\u001b[0m\u001b[0;34m(\u001b[0m\u001b[0;34m*\u001b[0m\u001b[0margs\u001b[0m\u001b[0;34m,\u001b[0m \u001b[0;34m**\u001b[0m\u001b[0mkwargs\u001b[0m\u001b[0;34m)\u001b[0m\u001b[0;34m\u001b[0m\u001b[0;34m\u001b[0m\u001b[0m\n\u001b[0m\u001b[1;32m    221\u001b[0m \u001b[0;34m\u001b[0m\u001b[0m\n\u001b[1;32m    222\u001b[0m     \u001b[0;31m# Default case, just call the wrapped C++ solve function\u001b[0m\u001b[0;34m\u001b[0m\u001b[0;34m\u001b[0m\u001b[0;34m\u001b[0m\u001b[0m\n",
      "\u001b[0;32m/usr/lib/python3/dist-packages/dolfin/fem/solving.py\u001b[0m in \u001b[0;36m_solve_varproblem\u001b[0;34m(*args, **kwargs)\u001b[0m\n\u001b[1;32m    264\u001b[0m         \u001b[0msolver\u001b[0m \u001b[0;34m=\u001b[0m \u001b[0mNonlinearVariationalSolver\u001b[0m\u001b[0;34m(\u001b[0m\u001b[0mproblem\u001b[0m\u001b[0;34m)\u001b[0m\u001b[0;34m\u001b[0m\u001b[0;34m\u001b[0m\u001b[0m\n\u001b[1;32m    265\u001b[0m         \u001b[0msolver\u001b[0m\u001b[0;34m.\u001b[0m\u001b[0mparameters\u001b[0m\u001b[0;34m.\u001b[0m\u001b[0mupdate\u001b[0m\u001b[0;34m(\u001b[0m\u001b[0msolver_parameters\u001b[0m\u001b[0;34m)\u001b[0m\u001b[0;34m\u001b[0m\u001b[0;34m\u001b[0m\u001b[0m\n\u001b[0;32m--> 266\u001b[0;31m         \u001b[0msolver\u001b[0m\u001b[0;34m.\u001b[0m\u001b[0msolve\u001b[0m\u001b[0;34m(\u001b[0m\u001b[0;34m)\u001b[0m\u001b[0;34m\u001b[0m\u001b[0;34m\u001b[0m\u001b[0m\n\u001b[0m\u001b[1;32m    267\u001b[0m \u001b[0;34m\u001b[0m\u001b[0m\n\u001b[1;32m    268\u001b[0m \u001b[0;34m\u001b[0m\u001b[0m\n",
      "\u001b[0;31mRuntimeError\u001b[0m: \n\n*** -------------------------------------------------------------------------\n*** DOLFIN encountered an error. If you are not able to resolve this issue\n*** using the information listed below, you can ask for help at\n***\n***     fenics-support@googlegroups.com\n***\n*** Remember to include the error message listed below and, if possible,\n*** include a *minimal* running example to reproduce the error.\n***\n*** -------------------------------------------------------------------------\n*** Error:   Unable to solve nonlinear system with NewtonSolver.\n*** Reason:  Newton solver did not converge because maximum number of iterations reached.\n*** Where:   This error was encountered inside NewtonSolver.cpp.\n*** Process: 0\n*** \n*** DOLFIN version: 2019.1.0\n*** Git changeset:  unknown\n*** -------------------------------------------------------------------------\n"
     ]
    }
   ],
   "source": [
    "model = PerfusionGasExchangeModel(folder_path=path, params=params)\n",
    "model.import_mesh(\n",
    "    os.path.join(\"../raw-data\", \"TKD_fine.xml\"), type=\"xml\"\n",
    ")\n",
    "model.sim_p(save=True, meshtype=\"tkd\")\n",
    "x = model.sim_sbst(hb=False, save=True)\n",
    "solution = model.sim_sbst(hb=True, save=True, guess=x)\n",
    "boundaries = dolfin.File(model.folder_path+'/bnd/bnd.pvd')\n",
    "boundaries << model.boundaries"
   ]
  }
 ],
 "metadata": {
  "interpreter": {
   "hash": "916dbcbb3f70747c44a77c7bcd40155683ae19c65e1c03b4aa3499c5328201f1"
  },
  "kernelspec": {
   "display_name": "Python 3 (ipykernel)",
   "language": "python",
   "name": "python3"
  },
  "language_info": {
   "codemirror_mode": {
    "name": "ipython",
    "version": 3
   },
   "file_extension": ".py",
   "mimetype": "text/x-python",
   "name": "python",
   "nbconvert_exporter": "python",
   "pygments_lexer": "ipython3",
   "version": "3.8.10"
  }
 },
 "nbformat": 4,
 "nbformat_minor": 2
}
