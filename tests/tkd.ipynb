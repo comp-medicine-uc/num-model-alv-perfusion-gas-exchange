{
 "cells": [
  {
   "cell_type": "markdown",
   "metadata": {},
   "source": [
    "# Test simulations on a TKD mesh"
   ]
  },
  {
   "cell_type": "markdown",
   "metadata": {},
   "source": [
    "The following notebook outlines a sample simulation of the perfusion and gas exchange model on a periodic mesh mimicking an acinus as a collection of tetrakaidecahedral alveoli. We consider an infinite packing of tetrakaidecahedra, each one of which represents a single, $200 \\, \\mu \\text{m}$ alveolus."
   ]
  },
  {
   "cell_type": "markdown",
   "metadata": {},
   "source": [
    "Import necessary packages and add the working directory to the system path."
   ]
  },
  {
   "cell_type": "code",
   "execution_count": 1,
   "metadata": {},
   "outputs": [],
   "source": [
    "import sys\n",
    "import os\n",
    "import dolfin\n",
    "import pandas as pd\n",
    "import numpy as np\n",
    "import matplotlib.pyplot as plt\n",
    "plt.style.use('ggplot')\n",
    "sys.path.append(os.getcwd()[:-6])"
   ]
  },
  {
   "cell_type": "markdown",
   "metadata": {},
   "source": [
    "Import the model modules."
   ]
  },
  {
   "cell_type": "code",
   "execution_count": 2,
   "metadata": {},
   "outputs": [],
   "source": [
    "from src.model import PerfusionGasExchangeModel\n",
    "from src.params import params"
   ]
  },
  {
   "cell_type": "markdown",
   "metadata": {},
   "source": [
    "Set a target folder for `vtk` files."
   ]
  },
  {
   "cell_type": "code",
   "execution_count": 3,
   "metadata": {},
   "outputs": [],
   "source": [
    "folder = \"tkd\"\n",
    "path = os.path.join(\"../raw-data\", folder)"
   ]
  },
  {
   "cell_type": "markdown",
   "metadata": {},
   "source": [
    "Instance the model and run simulation."
   ]
  },
  {
   "cell_type": "code",
   "execution_count": 4,
   "metadata": {},
   "outputs": [
    {
     "name": "stdout",
     "output_type": "stream",
     "text": [
      "Solving linear variational problem.\n",
      "No Jacobian form specified for nonlinear variational problem.\n",
      "Differentiating residual form F to obtain Jacobian J = F'.\n",
      "Solving nonlinear variational problem.\n",
      "  Newton iteration 0: r (abs) = 2.040e+09 (tol = 1.000e-08) r (rel) = 1.000e+00 (tol = 1.000e-09)\n",
      "  Newton iteration 1: r (abs) = 1.130e-06 (tol = 1.000e-08) r (rel) = 5.537e-16 (tol = 1.000e-09)\n",
      "  Newton solver finished in 1 iterations and 1 linear solver iterations.\n"
     ]
    }
   ],
   "source": [
    "model = PerfusionGasExchangeModel(folder_path=path, params=params)\n",
    "model.import_mesh(\n",
    "    os.path.join(\"../raw-data\", \"TKD.xml\"), type=\"xml\"\n",
    ")\n",
    "model.sim_p(save=True, meshtype=\"tkd\")\n",
    "x = model.sim_sbst(hb=False, save=True)\n",
    "#solution = model.sim_sbst(hb=True, save=True, guess=x)\n",
    "boundaries = dolfin.File(model.folder_path+'/bnd/bnd.pvd')\n",
    "boundaries << model.boundaries"
   ]
  }
 ],
 "metadata": {
  "interpreter": {
   "hash": "916dbcbb3f70747c44a77c7bcd40155683ae19c65e1c03b4aa3499c5328201f1"
  },
  "kernelspec": {
   "display_name": "Python 3.8.2 64-bit",
   "name": "python3"
  },
  "language_info": {
   "codemirror_mode": {
    "name": "ipython",
    "version": 3
   },
   "file_extension": ".py",
   "mimetype": "text/x-python",
   "name": "python",
   "nbconvert_exporter": "python",
   "pygments_lexer": "ipython3",
   "version": "3.8.10"
  },
  "orig_nbformat": 4
 },
 "nbformat": 4,
 "nbformat_minor": 2
}
