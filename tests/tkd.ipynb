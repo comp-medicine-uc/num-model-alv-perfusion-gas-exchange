{
 "cells": [
  {
   "cell_type": "markdown",
   "source": [
    "# Simulation with default parameters and periodic boundary conditions on TKD mesh"
   ],
   "metadata": {}
  },
  {
   "cell_type": "markdown",
   "source": [
    "The following notebook outlines a sample simulation of the perfusion and gas exchange model on a periodic mesh mimicking an acinus as a collection of pseudo-spherical alveoli. We consider an infinite packing of tetrakaidecahedra, each one of which represents a single, $200 \\, \\mu \\text{m}$ alveolus. We start without considering hemoglobin effects."
   ],
   "metadata": {}
  },
  {
   "cell_type": "markdown",
   "source": [
    "Import necessary packages and add the working directory to the system path."
   ],
   "metadata": {}
  },
  {
   "cell_type": "code",
   "execution_count": 9,
   "source": [
    "import sys\n",
    "import os\n",
    "import dolfin\n",
    "from ipygany import Scene, PolyMesh, ColorBar, IsoColor\n",
    "from ipywidgets import Play, IntProgress, link, VBox\n",
    "sys.path.append(os.getcwd()[:-6])"
   ],
   "outputs": [],
   "metadata": {}
  },
  {
   "cell_type": "markdown",
   "source": [
    "Import the model modules."
   ],
   "metadata": {}
  },
  {
   "cell_type": "code",
   "execution_count": 10,
   "source": [
    "from src.model import PerfusionGasExchangeModel\n",
    "from src.params import params"
   ],
   "outputs": [],
   "metadata": {}
  },
  {
   "cell_type": "markdown",
   "source": [
    "Set a target folder for `vtk` files."
   ],
   "metadata": {}
  },
  {
   "cell_type": "code",
   "execution_count": 11,
   "source": [
    "folder = \"periodic-bcs-tkd\"\n",
    "path = os.path.join(\"../raw-data\", folder)"
   ],
   "outputs": [],
   "metadata": {}
  },
  {
   "cell_type": "markdown",
   "source": [
    "Instance the model and run simulation."
   ],
   "metadata": {}
  },
  {
   "cell_type": "code",
   "execution_count": 12,
   "source": [
    "model = PerfusionGasExchangeModel(folder_path=path, params=params)\n",
    "model.import_mesh(\n",
    "    os.path.join(\"../raw-data\", \"TKD_test.xml\"), type=\"xml\", periodic=True\n",
    ")\n",
    "model.sim_p(save=True, meshtype=\"tkd\")\n",
    "model.sim_bst(final_time=1, num_steps=15, save=True, hb=False)"
   ],
   "outputs": [
    {
     "output_type": "stream",
     "name": "stdout",
     "text": [
      "Solving linear variational problem.\n",
      "No Jacobian form specified for nonlinear variational problem.\n",
      "Differentiating residual form F to obtain Jacobian J = F'.\n",
      "Solving nonlinear variational problem.\n",
      "  Newton iteration 0: r (abs) = 1.558e+06 (tol = 1.000e-10) r (rel) = 1.000e+00 (tol = 1.000e-09)\n",
      "  Newton iteration 1: r (abs) = 3.387e-09 (tol = 1.000e-10) r (rel) = 2.174e-15 (tol = 1.000e-09)\n",
      "  Newton solver finished in 1 iterations and 1 linear solver iterations.\n",
      "Finished time step 1/15 (7%)\n",
      "\n",
      "No Jacobian form specified for nonlinear variational problem.\n",
      "Differentiating residual form F to obtain Jacobian J = F'.\n",
      "Solving nonlinear variational problem.\n",
      "  Newton iteration 0: r (abs) = 1.016e+03 (tol = 1.000e-10) r (rel) = 1.000e+00 (tol = 1.000e-09)\n",
      "  Newton iteration 1: r (abs) = 4.694e-10 (tol = 1.000e-10) r (rel) = 4.620e-13 (tol = 1.000e-09)\n",
      "  Newton solver finished in 1 iterations and 1 linear solver iterations.\n",
      "Finished time step 2/15 (13%)\n",
      "\n",
      "No Jacobian form specified for nonlinear variational problem.\n",
      "Differentiating residual form F to obtain Jacobian J = F'.\n",
      "Solving nonlinear variational problem.\n",
      "  Newton iteration 0: r (abs) = 8.558e+02 (tol = 1.000e-10) r (rel) = 1.000e+00 (tol = 1.000e-09)\n",
      "  Newton iteration 1: r (abs) = 4.628e-10 (tol = 1.000e-10) r (rel) = 5.408e-13 (tol = 1.000e-09)\n",
      "  Newton solver finished in 1 iterations and 1 linear solver iterations.\n",
      "Finished time step 3/15 (20%)\n",
      "\n",
      "No Jacobian form specified for nonlinear variational problem.\n",
      "Differentiating residual form F to obtain Jacobian J = F'.\n",
      "Solving nonlinear variational problem.\n",
      "  Newton iteration 0: r (abs) = 7.744e+02 (tol = 1.000e-10) r (rel) = 1.000e+00 (tol = 1.000e-09)\n",
      "  Newton iteration 1: r (abs) = 4.641e-10 (tol = 1.000e-10) r (rel) = 5.992e-13 (tol = 1.000e-09)\n",
      "  Newton solver finished in 1 iterations and 1 linear solver iterations.\n",
      "Finished time step 4/15 (27%)\n",
      "\n",
      "No Jacobian form specified for nonlinear variational problem.\n",
      "Differentiating residual form F to obtain Jacobian J = F'.\n",
      "Solving nonlinear variational problem.\n",
      "  Newton iteration 0: r (abs) = 7.242e+02 (tol = 1.000e-10) r (rel) = 1.000e+00 (tol = 1.000e-09)\n",
      "  Newton iteration 1: r (abs) = 4.591e-10 (tol = 1.000e-10) r (rel) = 6.340e-13 (tol = 1.000e-09)\n",
      "  Newton solver finished in 1 iterations and 1 linear solver iterations.\n",
      "Finished time step 5/15 (33%)\n",
      "\n",
      "No Jacobian form specified for nonlinear variational problem.\n",
      "Differentiating residual form F to obtain Jacobian J = F'.\n",
      "Solving nonlinear variational problem.\n",
      "  Newton iteration 0: r (abs) = 6.895e+02 (tol = 1.000e-10) r (rel) = 1.000e+00 (tol = 1.000e-09)\n",
      "  Newton iteration 1: r (abs) = 4.641e-10 (tol = 1.000e-10) r (rel) = 6.732e-13 (tol = 1.000e-09)\n",
      "  Newton solver finished in 1 iterations and 1 linear solver iterations.\n",
      "Finished time step 6/15 (40%)\n",
      "\n",
      "No Jacobian form specified for nonlinear variational problem.\n",
      "Differentiating residual form F to obtain Jacobian J = F'.\n",
      "Solving nonlinear variational problem.\n",
      "  Newton iteration 0: r (abs) = 6.636e+02 (tol = 1.000e-10) r (rel) = 1.000e+00 (tol = 1.000e-09)\n",
      "  Newton iteration 1: r (abs) = 4.643e-10 (tol = 1.000e-10) r (rel) = 6.996e-13 (tol = 1.000e-09)\n",
      "  Newton solver finished in 1 iterations and 1 linear solver iterations.\n",
      "Finished time step 7/15 (47%)\n",
      "\n",
      "No Jacobian form specified for nonlinear variational problem.\n",
      "Differentiating residual form F to obtain Jacobian J = F'.\n",
      "Solving nonlinear variational problem.\n",
      "  Newton iteration 0: r (abs) = 6.431e+02 (tol = 1.000e-10) r (rel) = 1.000e+00 (tol = 1.000e-09)\n",
      "  Newton iteration 1: r (abs) = 4.654e-10 (tol = 1.000e-10) r (rel) = 7.237e-13 (tol = 1.000e-09)\n",
      "  Newton solver finished in 1 iterations and 1 linear solver iterations.\n",
      "Finished time step 8/15 (53%)\n",
      "\n",
      "No Jacobian form specified for nonlinear variational problem.\n",
      "Differentiating residual form F to obtain Jacobian J = F'.\n",
      "Solving nonlinear variational problem.\n",
      "  Newton iteration 0: r (abs) = 6.261e+02 (tol = 1.000e-10) r (rel) = 1.000e+00 (tol = 1.000e-09)\n",
      "  Newton iteration 1: r (abs) = 4.636e-10 (tol = 1.000e-10) r (rel) = 7.405e-13 (tol = 1.000e-09)\n",
      "  Newton solver finished in 1 iterations and 1 linear solver iterations.\n",
      "Finished time step 9/15 (60%)\n",
      "\n",
      "No Jacobian form specified for nonlinear variational problem.\n",
      "Differentiating residual form F to obtain Jacobian J = F'.\n",
      "Solving nonlinear variational problem.\n",
      "  Newton iteration 0: r (abs) = 6.115e+02 (tol = 1.000e-10) r (rel) = 1.000e+00 (tol = 1.000e-09)\n",
      "  Newton iteration 1: r (abs) = 4.578e-10 (tol = 1.000e-10) r (rel) = 7.486e-13 (tol = 1.000e-09)\n",
      "  Newton solver finished in 1 iterations and 1 linear solver iterations.\n",
      "Finished time step 10/15 (67%)\n",
      "\n",
      "No Jacobian form specified for nonlinear variational problem.\n",
      "Differentiating residual form F to obtain Jacobian J = F'.\n",
      "Solving nonlinear variational problem.\n",
      "  Newton iteration 0: r (abs) = 5.985e+02 (tol = 1.000e-10) r (rel) = 1.000e+00 (tol = 1.000e-09)\n",
      "  Newton iteration 1: r (abs) = 4.588e-10 (tol = 1.000e-10) r (rel) = 7.666e-13 (tol = 1.000e-09)\n",
      "  Newton solver finished in 1 iterations and 1 linear solver iterations.\n",
      "Finished time step 11/15 (73%)\n",
      "\n",
      "No Jacobian form specified for nonlinear variational problem.\n",
      "Differentiating residual form F to obtain Jacobian J = F'.\n",
      "Solving nonlinear variational problem.\n",
      "  Newton iteration 0: r (abs) = 5.869e+02 (tol = 1.000e-10) r (rel) = 1.000e+00 (tol = 1.000e-09)\n",
      "  Newton iteration 1: r (abs) = 4.549e-10 (tol = 1.000e-10) r (rel) = 7.752e-13 (tol = 1.000e-09)\n",
      "  Newton solver finished in 1 iterations and 1 linear solver iterations.\n",
      "Finished time step 12/15 (80%)\n",
      "\n",
      "No Jacobian form specified for nonlinear variational problem.\n",
      "Differentiating residual form F to obtain Jacobian J = F'.\n",
      "Solving nonlinear variational problem.\n",
      "  Newton iteration 0: r (abs) = 5.762e+02 (tol = 1.000e-10) r (rel) = 1.000e+00 (tol = 1.000e-09)\n",
      "  Newton iteration 1: r (abs) = 4.571e-10 (tol = 1.000e-10) r (rel) = 7.934e-13 (tol = 1.000e-09)\n",
      "  Newton solver finished in 1 iterations and 1 linear solver iterations.\n",
      "Finished time step 13/15 (87%)\n",
      "\n",
      "No Jacobian form specified for nonlinear variational problem.\n",
      "Differentiating residual form F to obtain Jacobian J = F'.\n",
      "Solving nonlinear variational problem.\n",
      "  Newton iteration 0: r (abs) = 5.662e+02 (tol = 1.000e-10) r (rel) = 1.000e+00 (tol = 1.000e-09)\n",
      "  Newton iteration 1: r (abs) = 4.589e-10 (tol = 1.000e-10) r (rel) = 8.105e-13 (tol = 1.000e-09)\n",
      "  Newton solver finished in 1 iterations and 1 linear solver iterations.\n",
      "Finished time step 14/15 (93%)\n",
      "\n",
      "No Jacobian form specified for nonlinear variational problem.\n",
      "Differentiating residual form F to obtain Jacobian J = F'.\n",
      "Solving nonlinear variational problem.\n",
      "  Newton iteration 0: r (abs) = 5.570e+02 (tol = 1.000e-10) r (rel) = 1.000e+00 (tol = 1.000e-09)\n",
      "  Newton iteration 1: r (abs) = 4.665e-10 (tol = 1.000e-10) r (rel) = 8.376e-13 (tol = 1.000e-09)\n",
      "  Newton solver finished in 1 iterations and 1 linear solver iterations.\n",
      "Finished time step 15/15 (100%)\n",
      "\n"
     ]
    }
   ],
   "metadata": {}
  },
  {
   "cell_type": "code",
   "execution_count": 14,
   "source": [
    "boundaries = dolfin.File(model.folder_path+'/bnd/bnd.pvd')\n",
    "boundaries << model.boundaries"
   ],
   "outputs": [],
   "metadata": {}
  },
  {
   "cell_type": "markdown",
   "source": [
    "Visualize using `iygany`. As an example, we start with $p$. Currently, prior knowledge of the `vtu` file is needed to visualize this. There's probably a better way to do this."
   ],
   "metadata": {}
  },
  {
   "cell_type": "code",
   "execution_count": 15,
   "source": [
    "mesh = PolyMesh.from_vtk(os.path.join(model.folder_path, 'p/p000000.vtu'))\n",
    "iso = IsoColor(mesh, input='f_98', min=8, max=12)\n",
    "scene = Scene([iso])\n",
    "bar = ColorBar(iso)\n",
    "VBox(children=(scene, bar))"
   ],
   "outputs": [
    {
     "output_type": "display_data",
     "data": {
      "text/plain": [
       "VBox(children=(Scene(children=[IsoColor(input='f_98', max=12.0, min=8.0, parent=PolyMesh(data=[Data(components…"
      ],
      "application/vnd.jupyter.widget-view+json": {
       "version_major": 2,
       "version_minor": 0,
       "model_id": "84187b8611674946aba2a848031035bd"
      }
     },
     "metadata": {}
    }
   ],
   "metadata": {}
  },
  {
   "cell_type": "markdown",
   "source": [
    "Next we visualize $p_{\\text{O}_{2}}$."
   ],
   "metadata": {}
  },
  {
   "cell_type": "code",
   "execution_count": 19,
   "source": [
    "mesh_dynamic = PolyMesh.from_vtk(\n",
    "    os.path.join(model.folder_path, 'bst/pO2000000.vtu')\n",
    ")\n",
    "\n",
    "def load_step(change):\n",
    "    mesh_dynamic.reload(\n",
    "        os.path.join(model.folder_path, 'bst/pO20000{}.vtu').format(\n",
    "            str(change['new']).zfill(2)\n",
    "        ), reload_vertices=True\n",
    "    )\n",
    "\n",
    "play = Play(description='Step:', min=1, max=15, value=1)\n",
    "play.observe(load_step, names=['value'])\n",
    "\n",
    "progress = IntProgress(value=1, step=1, min=1, max=15)\n",
    "link((progress, 'value'), (play, 'value'))\n",
    "\n",
    "stepper = VBox((play, progress))\n",
    "iso = IsoColor(mesh_dynamic, input='f_128-0', min=39.5, max=40)\n",
    "bar = ColorBar(iso)\n",
    "scene = Scene([iso])\n",
    "\n",
    "VBox(children=(scene, stepper, bar))"
   ],
   "outputs": [
    {
     "output_type": "display_data",
     "data": {
      "text/plain": [
       "VBox(children=(Scene(children=[IsoColor(input='f_128-0', max=40.0, min=39.0, parent=PolyMesh(data=[Data(compon…"
      ],
      "application/vnd.jupyter.widget-view+json": {
       "version_major": 2,
       "version_minor": 0,
       "model_id": "6bee4b2efe8f44c4a5edcc1f38f2df1b"
      }
     },
     "metadata": {}
    }
   ],
   "metadata": {}
  }
 ],
 "metadata": {
  "orig_nbformat": 4,
  "language_info": {
   "name": "python",
   "version": "3.8.2",
   "mimetype": "text/x-python",
   "codemirror_mode": {
    "name": "ipython",
    "version": 3
   },
   "pygments_lexer": "ipython3",
   "nbconvert_exporter": "python",
   "file_extension": ".py"
  },
  "kernelspec": {
   "name": "python3",
   "display_name": "Python 3.8.2 64-bit"
  },
  "interpreter": {
   "hash": "916dbcbb3f70747c44a77c7bcd40155683ae19c65e1c03b4aa3499c5328201f1"
  }
 },
 "nbformat": 4,
 "nbformat_minor": 2
}