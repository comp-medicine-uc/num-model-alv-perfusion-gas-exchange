{
 "cells": [
  {
   "cell_type": "markdown",
   "metadata": {},
   "source": [
    "# Test simulations on a TKD mesh"
   ]
  },
  {
   "cell_type": "markdown",
   "metadata": {},
   "source": [
    "The following notebook outlines a sample simulation of the perfusion and gas exchange model on a periodic mesh mimicking an acinus as a collection of tetrakaidecahedral alveoli. We consider an infinite packing of tetrakaidecahedra, each one of which represents a single, $200 \\, \\mu \\text{m}$ alveolus."
   ]
  },
  {
   "cell_type": "markdown",
   "metadata": {},
   "source": [
    "Import necessary packages and add the working directory to the system path."
   ]
  },
  {
   "cell_type": "code",
   "execution_count": 1,
   "metadata": {},
   "outputs": [],
   "source": [
    "import sys\n",
    "import os\n",
    "import dolfin\n",
    "import pandas as pd\n",
    "import numpy as np\n",
    "import matplotlib.pyplot as plt\n",
    "plt.style.use('ggplot')\n",
    "sys.path.append(os.getcwd()[:-6])"
   ]
  },
  {
   "cell_type": "markdown",
   "metadata": {},
   "source": [
    "Import the model modules."
   ]
  },
  {
   "cell_type": "code",
   "execution_count": 2,
   "metadata": {},
   "outputs": [],
   "source": [
    "from src.model import PerfusionGasExchangeModel\n",
    "from src.params import params"
   ]
  },
  {
   "cell_type": "markdown",
   "metadata": {},
   "source": [
    "Set a target folder for `vtk` files."
   ]
  },
  {
   "cell_type": "code",
   "execution_count": 3,
   "metadata": {},
   "outputs": [],
   "source": [
    "folder = \"tkd\"\n",
    "path = os.path.join(\"../raw-data\", folder)"
   ]
  },
  {
   "cell_type": "markdown",
   "metadata": {},
   "source": [
    "Instance the model and run simulation."
   ]
  },
  {
   "cell_type": "code",
   "execution_count": 4,
   "metadata": {},
   "outputs": [
    {
     "name": "stdout",
     "output_type": "stream",
     "text": [
      "Solving linear variational problem.\n",
      "No Jacobian form specified for nonlinear variational problem.\n",
      "Differentiating residual form F to obtain Jacobian J = F'.\n",
      "Solving nonlinear variational problem.\n",
      "  Newton iteration 0: r (abs) = 1.839e+09 (tol = 1.000e-08) r (rel) = 1.000e+00 (tol = 1.000e-09)\n",
      "  Newton iteration 1: r (abs) = 9.810e-07 (tol = 1.000e-08) r (rel) = 5.333e-16 (tol = 1.000e-09)\n",
      "  Newton solver finished in 1 iterations and 1 linear solver iterations.\n",
      "No Jacobian form specified for nonlinear variational problem.\n",
      "Differentiating residual form F to obtain Jacobian J = F'.\n",
      "Solving nonlinear variational problem.\n",
      "  Newton iteration 0: r (abs) = 1.644e+10 (tol = 1.000e-08) r (rel) = 1.000e+00 (tol = 1.000e-09)\n",
      "  Newton iteration 1: r (abs) = 4.521e+13 (tol = 1.000e-08) r (rel) = 2.750e+03 (tol = 1.000e-09)\n",
      "  Newton iteration 2: r (abs) = 3.400e+13 (tol = 1.000e-08) r (rel) = 2.069e+03 (tol = 1.000e-09)\n",
      "  Newton iteration 3: r (abs) = 3.008e+14 (tol = 1.000e-08) r (rel) = 1.830e+04 (tol = 1.000e-09)\n",
      "  Newton iteration 4: r (abs) = 1.423e+15 (tol = 1.000e-08) r (rel) = 8.655e+04 (tol = 1.000e-09)\n",
      "  Newton iteration 5: r (abs) = 7.846e+14 (tol = 1.000e-08) r (rel) = 4.773e+04 (tol = 1.000e-09)\n",
      "  Newton iteration 6: r (abs) = 5.016e+14 (tol = 1.000e-08) r (rel) = 3.052e+04 (tol = 1.000e-09)\n",
      "  Newton iteration 7: r (abs) = 1.662e+14 (tol = 1.000e-08) r (rel) = 1.011e+04 (tol = 1.000e-09)\n",
      "  Newton iteration 8: r (abs) = 1.164e+14 (tol = 1.000e-08) r (rel) = 7.083e+03 (tol = 1.000e-09)\n",
      "  Newton iteration 9: r (abs) = 3.845e+15 (tol = 1.000e-08) r (rel) = 2.339e+05 (tol = 1.000e-09)\n",
      "  Newton iteration 10: r (abs) = 9.558e+14 (tol = 1.000e-08) r (rel) = 5.815e+04 (tol = 1.000e-09)\n",
      "  Newton iteration 11: r (abs) = 2.896e+15 (tol = 1.000e-08) r (rel) = 1.762e+05 (tol = 1.000e-09)\n",
      "  Newton iteration 12: r (abs) = 2.479e+15 (tol = 1.000e-08) r (rel) = 1.508e+05 (tol = 1.000e-09)\n",
      "  Newton iteration 13: r (abs) = 6.207e+14 (tol = 1.000e-08) r (rel) = 3.776e+04 (tol = 1.000e-09)\n",
      "  Newton iteration 14: r (abs) = 1.207e+16 (tol = 1.000e-08) r (rel) = 7.342e+05 (tol = 1.000e-09)\n",
      "  Newton iteration 15: r (abs) = 6.861e+15 (tol = 1.000e-08) r (rel) = 4.174e+05 (tol = 1.000e-09)\n",
      "  Newton iteration 16: r (abs) = 1.712e+15 (tol = 1.000e-08) r (rel) = 1.041e+05 (tol = 1.000e-09)\n",
      "  Newton iteration 17: r (abs) = 4.339e+14 (tol = 1.000e-08) r (rel) = 2.640e+04 (tol = 1.000e-09)\n",
      "  Newton iteration 18: r (abs) = 1.237e+16 (tol = 1.000e-08) r (rel) = 7.525e+05 (tol = 1.000e-09)\n",
      "  Newton iteration 19: r (abs) = 3.088e+15 (tol = 1.000e-08) r (rel) = 1.878e+05 (tol = 1.000e-09)\n",
      "  Newton iteration 20: r (abs) = 7.691e+14 (tol = 1.000e-08) r (rel) = 4.679e+04 (tol = 1.000e-09)\n",
      "  Newton iteration 21: r (abs) = 4.268e+14 (tol = 1.000e-08) r (rel) = 2.597e+04 (tol = 1.000e-09)\n",
      "  Newton iteration 22: r (abs) = 1.245e+14 (tol = 1.000e-08) r (rel) = 7.575e+03 (tol = 1.000e-09)\n",
      "  Newton iteration 23: r (abs) = 4.164e+14 (tol = 1.000e-08) r (rel) = 2.533e+04 (tol = 1.000e-09)\n",
      "  Newton iteration 24: r (abs) = 2.761e+14 (tol = 1.000e-08) r (rel) = 1.680e+04 (tol = 1.000e-09)\n",
      "  Newton iteration 25: r (abs) = 9.391e+15 (tol = 1.000e-08) r (rel) = 5.713e+05 (tol = 1.000e-09)\n",
      "  Newton iteration 26: r (abs) = 1.407e+16 (tol = 1.000e-08) r (rel) = 8.558e+05 (tol = 1.000e-09)\n",
      "  Newton iteration 27: r (abs) = 4.388e+16 (tol = 1.000e-08) r (rel) = 2.670e+06 (tol = 1.000e-09)\n",
      "  Newton iteration 28: r (abs) = 1.118e+16 (tol = 1.000e-08) r (rel) = 6.804e+05 (tol = 1.000e-09)\n",
      "  Newton iteration 29: r (abs) = 2.913e+15 (tol = 1.000e-08) r (rel) = 1.772e+05 (tol = 1.000e-09)\n",
      "  Newton iteration 30: r (abs) = 7.294e+14 (tol = 1.000e-08) r (rel) = 4.437e+04 (tol = 1.000e-09)\n",
      "  Newton iteration 31: r (abs) = 2.198e+14 (tol = 1.000e-08) r (rel) = 1.337e+04 (tol = 1.000e-09)\n",
      "  Newton iteration 32: r (abs) = 9.406e+13 (tol = 1.000e-08) r (rel) = 5.722e+03 (tol = 1.000e-09)\n",
      "  Newton iteration 33: r (abs) = 2.827e+13 (tol = 1.000e-08) r (rel) = 1.720e+03 (tol = 1.000e-09)\n",
      "  Newton iteration 34: r (abs) = 6.366e+16 (tol = 1.000e-08) r (rel) = 3.873e+06 (tol = 1.000e-09)\n",
      "  Newton iteration 35: r (abs) = 1.591e+16 (tol = 1.000e-08) r (rel) = 9.679e+05 (tol = 1.000e-09)\n",
      "  Newton iteration 36: r (abs) = 5.513e+15 (tol = 1.000e-08) r (rel) = 3.354e+05 (tol = 1.000e-09)\n",
      "  Newton iteration 37: r (abs) = 1.375e+15 (tol = 1.000e-08) r (rel) = 8.366e+04 (tol = 1.000e-09)\n",
      "  Newton iteration 38: r (abs) = 2.876e+15 (tol = 1.000e-08) r (rel) = 1.750e+05 (tol = 1.000e-09)\n",
      "  Newton iteration 39: r (abs) = 7.173e+14 (tol = 1.000e-08) r (rel) = 4.364e+04 (tol = 1.000e-09)\n",
      "  Newton iteration 40: r (abs) = 3.275e+15 (tol = 1.000e-08) r (rel) = 1.993e+05 (tol = 1.000e-09)\n",
      "  Newton iteration 41: r (abs) = 8.256e+14 (tol = 1.000e-08) r (rel) = 5.023e+04 (tol = 1.000e-09)\n",
      "  Newton iteration 42: r (abs) = 9.908e+16 (tol = 1.000e-08) r (rel) = 6.028e+06 (tol = 1.000e-09)\n",
      "  Newton iteration 43: r (abs) = 2.569e+16 (tol = 1.000e-08) r (rel) = 1.563e+06 (tol = 1.000e-09)\n",
      "  Newton iteration 44: r (abs) = 6.407e+15 (tol = 1.000e-08) r (rel) = 3.898e+05 (tol = 1.000e-09)\n",
      "  Newton iteration 45: r (abs) = 1.857e+15 (tol = 1.000e-08) r (rel) = 1.130e+05 (tol = 1.000e-09)\n",
      "  Newton iteration 46: r (abs) = 6.025e+14 (tol = 1.000e-08) r (rel) = 3.665e+04 (tol = 1.000e-09)\n",
      "  Newton iteration 47: r (abs) = 8.003e+14 (tol = 1.000e-08) r (rel) = 4.869e+04 (tol = 1.000e-09)\n",
      "  Newton iteration 48: r (abs) = 8.108e+14 (tol = 1.000e-08) r (rel) = 4.933e+04 (tol = 1.000e-09)\n",
      "  Newton iteration 49: r (abs) = 2.339e+14 (tol = 1.000e-08) r (rel) = 1.423e+04 (tol = 1.000e-09)\n",
      "  Newton iteration 50: r (abs) = 2.815e+14 (tol = 1.000e-08) r (rel) = 1.713e+04 (tol = 1.000e-09)\n"
     ]
    },
    {
     "ename": "RuntimeError",
     "evalue": "\n\n*** -------------------------------------------------------------------------\n*** DOLFIN encountered an error. If you are not able to resolve this issue\n*** using the information listed below, you can ask for help at\n***\n***     fenics-support@googlegroups.com\n***\n*** Remember to include the error message listed below and, if possible,\n*** include a *minimal* running example to reproduce the error.\n***\n*** -------------------------------------------------------------------------\n*** Error:   Unable to solve nonlinear system with NewtonSolver.\n*** Reason:  Newton solver did not converge because maximum number of iterations reached.\n*** Where:   This error was encountered inside NewtonSolver.cpp.\n*** Process: 0\n*** \n*** DOLFIN version: 2019.1.0\n*** Git changeset:  unknown\n*** -------------------------------------------------------------------------\n",
     "output_type": "error",
     "traceback": [
      "\u001b[0;31m---------------------------------------------------------------------------\u001b[0m",
      "\u001b[0;31mRuntimeError\u001b[0m                              Traceback (most recent call last)",
      "\u001b[0;32m/tmp/ipykernel_249/2831924507.py\u001b[0m in \u001b[0;36m<module>\u001b[0;34m\u001b[0m\n\u001b[1;32m      5\u001b[0m \u001b[0mmodel\u001b[0m\u001b[0;34m.\u001b[0m\u001b[0msim_p\u001b[0m\u001b[0;34m(\u001b[0m\u001b[0msave\u001b[0m\u001b[0;34m=\u001b[0m\u001b[0;32mTrue\u001b[0m\u001b[0;34m,\u001b[0m \u001b[0mmeshtype\u001b[0m\u001b[0;34m=\u001b[0m\u001b[0;34m\"tkd\"\u001b[0m\u001b[0;34m)\u001b[0m\u001b[0;34m\u001b[0m\u001b[0;34m\u001b[0m\u001b[0m\n\u001b[1;32m      6\u001b[0m \u001b[0mx\u001b[0m \u001b[0;34m=\u001b[0m \u001b[0mmodel\u001b[0m\u001b[0;34m.\u001b[0m\u001b[0msim_sbst\u001b[0m\u001b[0;34m(\u001b[0m\u001b[0mhb\u001b[0m\u001b[0;34m=\u001b[0m\u001b[0;32mFalse\u001b[0m\u001b[0;34m,\u001b[0m \u001b[0msave\u001b[0m\u001b[0;34m=\u001b[0m\u001b[0;32mFalse\u001b[0m\u001b[0;34m)\u001b[0m\u001b[0;34m\u001b[0m\u001b[0;34m\u001b[0m\u001b[0m\n\u001b[0;32m----> 7\u001b[0;31m \u001b[0msolution\u001b[0m \u001b[0;34m=\u001b[0m \u001b[0mmodel\u001b[0m\u001b[0;34m.\u001b[0m\u001b[0msim_sbst\u001b[0m\u001b[0;34m(\u001b[0m\u001b[0mhb\u001b[0m\u001b[0;34m=\u001b[0m\u001b[0;32mTrue\u001b[0m\u001b[0;34m,\u001b[0m \u001b[0msave\u001b[0m\u001b[0;34m=\u001b[0m\u001b[0;32mTrue\u001b[0m\u001b[0;34m)\u001b[0m\u001b[0;31m#, guess=x)\u001b[0m\u001b[0;34m\u001b[0m\u001b[0;34m\u001b[0m\u001b[0m\n\u001b[0m\u001b[1;32m      8\u001b[0m \u001b[0mboundaries\u001b[0m \u001b[0;34m=\u001b[0m \u001b[0mdolfin\u001b[0m\u001b[0;34m.\u001b[0m\u001b[0mFile\u001b[0m\u001b[0;34m(\u001b[0m\u001b[0mmodel\u001b[0m\u001b[0;34m.\u001b[0m\u001b[0mfolder_path\u001b[0m\u001b[0;34m+\u001b[0m\u001b[0;34m'/bnd/bnd.pvd'\u001b[0m\u001b[0;34m)\u001b[0m\u001b[0;34m\u001b[0m\u001b[0;34m\u001b[0m\u001b[0m\n\u001b[1;32m      9\u001b[0m \u001b[0mboundaries\u001b[0m \u001b[0;34m<<\u001b[0m \u001b[0mmodel\u001b[0m\u001b[0;34m.\u001b[0m\u001b[0mboundaries\u001b[0m\u001b[0;34m\u001b[0m\u001b[0;34m\u001b[0m\u001b[0m\n",
      "\u001b[0;32m~/num-model-alv-perfusion-gas-exchange/src/model.py\u001b[0m in \u001b[0;36msim_sbst\u001b[0;34m(self, hb, save, guess)\u001b[0m\n\u001b[1;32m    566\u001b[0m         \u001b[0;31m# Solve variational problem\u001b[0m\u001b[0;34m\u001b[0m\u001b[0;34m\u001b[0m\u001b[0;34m\u001b[0m\u001b[0m\n\u001b[1;32m    567\u001b[0m \u001b[0;34m\u001b[0m\u001b[0m\n\u001b[0;32m--> 568\u001b[0;31m         solve(\n\u001b[0m\u001b[1;32m    569\u001b[0m             \u001b[0mG\u001b[0m \u001b[0;34m==\u001b[0m \u001b[0;36m0\u001b[0m\u001b[0;34m,\u001b[0m \u001b[0mx\u001b[0m\u001b[0;34m,\u001b[0m \u001b[0mself\u001b[0m\u001b[0;34m.\u001b[0m\u001b[0msbst_dbc\u001b[0m\u001b[0;34m,\u001b[0m\u001b[0;34m\u001b[0m\u001b[0;34m\u001b[0m\u001b[0m\n\u001b[1;32m    570\u001b[0m             solver_parameters={\"newton_solver\": {\n",
      "\u001b[0;32m/usr/lib/python3/dist-packages/dolfin/fem/solving.py\u001b[0m in \u001b[0;36msolve\u001b[0;34m(*args, **kwargs)\u001b[0m\n\u001b[1;32m    218\u001b[0m     \u001b[0;31m# tolerance)\u001b[0m\u001b[0;34m\u001b[0m\u001b[0;34m\u001b[0m\u001b[0;34m\u001b[0m\u001b[0m\n\u001b[1;32m    219\u001b[0m     \u001b[0;32melif\u001b[0m \u001b[0misinstance\u001b[0m\u001b[0;34m(\u001b[0m\u001b[0margs\u001b[0m\u001b[0;34m[\u001b[0m\u001b[0;36m0\u001b[0m\u001b[0;34m]\u001b[0m\u001b[0;34m,\u001b[0m \u001b[0mufl\u001b[0m\u001b[0;34m.\u001b[0m\u001b[0mclasses\u001b[0m\u001b[0;34m.\u001b[0m\u001b[0mEquation\u001b[0m\u001b[0;34m)\u001b[0m\u001b[0;34m:\u001b[0m\u001b[0;34m\u001b[0m\u001b[0;34m\u001b[0m\u001b[0m\n\u001b[0;32m--> 220\u001b[0;31m         \u001b[0m_solve_varproblem\u001b[0m\u001b[0;34m(\u001b[0m\u001b[0;34m*\u001b[0m\u001b[0margs\u001b[0m\u001b[0;34m,\u001b[0m \u001b[0;34m**\u001b[0m\u001b[0mkwargs\u001b[0m\u001b[0;34m)\u001b[0m\u001b[0;34m\u001b[0m\u001b[0;34m\u001b[0m\u001b[0m\n\u001b[0m\u001b[1;32m    221\u001b[0m \u001b[0;34m\u001b[0m\u001b[0m\n\u001b[1;32m    222\u001b[0m     \u001b[0;31m# Default case, just call the wrapped C++ solve function\u001b[0m\u001b[0;34m\u001b[0m\u001b[0;34m\u001b[0m\u001b[0;34m\u001b[0m\u001b[0m\n",
      "\u001b[0;32m/usr/lib/python3/dist-packages/dolfin/fem/solving.py\u001b[0m in \u001b[0;36m_solve_varproblem\u001b[0;34m(*args, **kwargs)\u001b[0m\n\u001b[1;32m    264\u001b[0m         \u001b[0msolver\u001b[0m \u001b[0;34m=\u001b[0m \u001b[0mNonlinearVariationalSolver\u001b[0m\u001b[0;34m(\u001b[0m\u001b[0mproblem\u001b[0m\u001b[0;34m)\u001b[0m\u001b[0;34m\u001b[0m\u001b[0;34m\u001b[0m\u001b[0m\n\u001b[1;32m    265\u001b[0m         \u001b[0msolver\u001b[0m\u001b[0;34m.\u001b[0m\u001b[0mparameters\u001b[0m\u001b[0;34m.\u001b[0m\u001b[0mupdate\u001b[0m\u001b[0;34m(\u001b[0m\u001b[0msolver_parameters\u001b[0m\u001b[0;34m)\u001b[0m\u001b[0;34m\u001b[0m\u001b[0;34m\u001b[0m\u001b[0m\n\u001b[0;32m--> 266\u001b[0;31m         \u001b[0msolver\u001b[0m\u001b[0;34m.\u001b[0m\u001b[0msolve\u001b[0m\u001b[0;34m(\u001b[0m\u001b[0;34m)\u001b[0m\u001b[0;34m\u001b[0m\u001b[0;34m\u001b[0m\u001b[0m\n\u001b[0m\u001b[1;32m    267\u001b[0m \u001b[0;34m\u001b[0m\u001b[0m\n\u001b[1;32m    268\u001b[0m \u001b[0;34m\u001b[0m\u001b[0m\n",
      "\u001b[0;31mRuntimeError\u001b[0m: \n\n*** -------------------------------------------------------------------------\n*** DOLFIN encountered an error. If you are not able to resolve this issue\n*** using the information listed below, you can ask for help at\n***\n***     fenics-support@googlegroups.com\n***\n*** Remember to include the error message listed below and, if possible,\n*** include a *minimal* running example to reproduce the error.\n***\n*** -------------------------------------------------------------------------\n*** Error:   Unable to solve nonlinear system with NewtonSolver.\n*** Reason:  Newton solver did not converge because maximum number of iterations reached.\n*** Where:   This error was encountered inside NewtonSolver.cpp.\n*** Process: 0\n*** \n*** DOLFIN version: 2019.1.0\n*** Git changeset:  unknown\n*** -------------------------------------------------------------------------\n"
     ]
    }
   ],
   "source": [
    "model = PerfusionGasExchangeModel(folder_path=path, params=params)\n",
    "model.import_mesh(\n",
    "    os.path.join(\"../raw-data\", \"TKD_test.xml\"), type=\"xml\"\n",
    ")\n",
    "model.sim_p(save=True, meshtype=\"tkd\")\n",
    "x = model.sim_sbst(hb=False, save=False)\n",
    "solution = model.sim_sbst(hb=True, save=True)#, guess=x)\n",
    "boundaries = dolfin.File(model.folder_path+'/bnd/bnd.pvd')\n",
    "boundaries << model.boundaries"
   ]
  }
 ],
 "metadata": {
  "interpreter": {
   "hash": "916dbcbb3f70747c44a77c7bcd40155683ae19c65e1c03b4aa3499c5328201f1"
  },
  "kernelspec": {
   "display_name": "Python 3.8.2 64-bit",
   "name": "python3"
  },
  "language_info": {
   "codemirror_mode": {
    "name": "ipython",
    "version": 3
   },
   "file_extension": ".py",
   "mimetype": "text/x-python",
   "name": "python",
   "nbconvert_exporter": "python",
   "pygments_lexer": "ipython3",
   "version": "3.8.10"
  },
  "orig_nbformat": 4
 },
 "nbformat": 4,
 "nbformat_minor": 2
}
