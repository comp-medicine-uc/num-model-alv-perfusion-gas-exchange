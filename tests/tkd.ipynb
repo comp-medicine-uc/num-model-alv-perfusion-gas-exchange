{
 "cells": [
  {
   "cell_type": "markdown",
   "metadata": {},
   "source": [
    "# Simulations on a TKD periodic domain"
   ]
  },
  {
   "cell_type": "markdown",
   "metadata": {},
   "source": [
    "The following notebook contains sample code for simulating perfusion and gas exchange on a periodic mesh mimicking a collection of alveoli as a periodic structure based on a tetrakaidecahedron."
   ]
  },
  {
   "cell_type": "markdown",
   "metadata": {},
   "source": [
    "First we import necessary libraries and add important directories to the system path."
   ]
  },
  {
   "cell_type": "code",
   "execution_count": 1,
   "metadata": {},
   "outputs": [],
   "source": [
    "import sys\n",
    "import os\n",
    "import dolfin\n",
    "import pyvista as pv\n",
    "sys.path.append(os.getcwd()[:-6])"
   ]
  },
  {
   "cell_type": "markdown",
   "metadata": {},
   "source": [
    "Following that, we import the main simulation class and parameter dictionary from the model source files."
   ]
  },
  {
   "cell_type": "code",
   "execution_count": 2,
   "metadata": {},
   "outputs": [],
   "source": [
    "from src.model import PerfusionGasExchangeModel\n",
    "from src.params import params"
   ]
  },
  {
   "cell_type": "markdown",
   "metadata": {},
   "source": [
    "Now we outline the folder name and the path to save raw data files."
   ]
  },
  {
   "cell_type": "code",
   "execution_count": 3,
   "metadata": {},
   "outputs": [],
   "source": [
    "folder = \"tkd-notebook\"\n",
    "path = os.path.join(\"../raw-data\", folder)"
   ]
  },
  {
   "cell_type": "markdown",
   "metadata": {},
   "source": [
    "Now we run the solver. First, we instance the model. Then, we import the TKD mesh from an XML file. Afterwards, we solve the perfusion problem on the mesh and then we solve the transport problem _without_ hemoglobin effects. Finally, we run the actual full model using the previous solution as an initial guess for the Newton iteration, and save the boundary data."
   ]
  },
  {
   "cell_type": "code",
   "execution_count": null,
   "metadata": {},
   "outputs": [],
   "source": [
    "model = PerfusionGasExchangeModel(folder_path=path, params=params)\n",
    "model.import_mesh(\n",
    "    os.path.join(\"../raw-data/meshes\", \"tkd.xml\"), meshtype='tkd', type=\"xml\", \n",
    "    periodic=True\n",
    ")\n",
    "model.sim_p(save=True, meshtype=\"tkd\")\n",
    "boundaries = dolfin.File(model.folder_path+'/bnd/bnd.pvd')\n",
    "boundaries << model.boundaries\n",
    "x = model.sim_t(hb=False, save=False)\n",
    "solution = model.sim_t(hb=True, save=True, guess=x)"
   ]
  },
  {
   "cell_type": "markdown",
   "metadata": {},
   "source": [
    "The preceeding code will generate PVD (Paraview) and VTK files that hold the solutions to our problems. We now visualize the results from a parallel simulation (see the `cluster` directory for details on how to run in a cluster)."
   ]
  },
  {
   "cell_type": "code",
   "execution_count": null,
   "metadata": {},
   "outputs": [],
   "source": [
    "mesh = pv.read(os.path.join('../raw-data','tkd-job','t','pO2.pvd'))\n",
    "mesh.plot(jupyter_backend='pythreejs')"
   ]
  }
 ],
 "metadata": {
  "interpreter": {
   "hash": "916dbcbb3f70747c44a77c7bcd40155683ae19c65e1c03b4aa3499c5328201f1"
  },
  "kernelspec": {
   "display_name": "Python 3 (ipykernel)",
   "language": "python",
   "name": "python3"
  },
  "language_info": {
   "codemirror_mode": {
    "name": "ipython",
    "version": 3
   },
   "file_extension": ".py",
   "mimetype": "text/x-python",
   "name": "python",
   "nbconvert_exporter": "python",
   "pygments_lexer": "ipython3",
   "version": "3.8.10"
  }
 },
 "nbformat": 4,
 "nbformat_minor": 2
}
