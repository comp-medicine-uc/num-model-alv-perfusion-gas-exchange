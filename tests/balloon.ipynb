{
 "cells": [
  {
   "cell_type": "markdown",
   "metadata": {},
   "source": [
    "# Benchmark simulations on an idealised alveolar mesh"
   ]
  },
  {
   "cell_type": "markdown",
   "metadata": {},
   "source": [
    "The following notebook contains sample code for simulating gas exchange on an idealised alveolar geometry using the model outlined in Zurita & Hurtado (2022)."
   ]
  },
  {
   "cell_type": "markdown",
   "metadata": {},
   "source": [
    "First we import necessary libraries and add important directories to the system path."
   ]
  },
  {
   "cell_type": "code",
   "execution_count": 1,
   "metadata": {},
   "outputs": [],
   "source": [
    "import sys\n",
    "import os\n",
    "import dolfin\n",
    "import pandas as pd\n",
    "import numpy as np\n",
    "import matplotlib.pyplot as plt\n",
    "plt.style.use('ggplot')\n",
    "sys.path.append(os.getcwd()[:-6])"
   ]
  },
  {
   "cell_type": "markdown",
   "metadata": {},
   "source": [
    "Following that, we import the important modules from the model source files."
   ]
  },
  {
   "cell_type": "code",
   "execution_count": 2,
   "metadata": {},
   "outputs": [],
   "source": [
    "from src.model import PerfusionGasExchangeModel\n",
    "from src.params import params"
   ]
  },
  {
   "cell_type": "markdown",
   "metadata": {},
   "source": [
    "Now we outline the folder name and the path to save raw data files."
   ]
  },
  {
   "cell_type": "code",
   "execution_count": 3,
   "metadata": {},
   "outputs": [],
   "source": [
    "folder = \"sphere_v2_low_k\"\n",
    "path = os.path.join(\"../raw-data\", folder)"
   ]
  },
  {
   "cell_type": "markdown",
   "metadata": {},
   "source": [
    "Now we run the solver. First, we instance the model. Then, we import the mesh. Afterwards we simulate the perfusion problem and the steady transport problem _without_ hemoglobin effects. Finally, we run the actual full model using the previous solution as an initial guess for the Newton iteration, and save the boundary data."
   ]
  },
  {
   "cell_type": "code",
   "execution_count": 4,
   "metadata": {},
   "outputs": [
    {
     "name": "stdout",
     "output_type": "stream",
     "text": [
      "Solving linear variational problem.\n",
      "No Jacobian form specified for nonlinear variational problem.\n",
      "Differentiating residual form F to obtain Jacobian J = F'.\n",
      "Solving nonlinear variational problem.\n",
      "  Newton iteration 0: r (abs) = 3.862e+08 (tol = 1.000e-08) r (rel) = 1.000e+00 (tol = 1.000e-08)\n",
      "  Newton iteration 1: r (abs) = 3.514e-07 (tol = 1.000e-08) r (rel) = 9.099e-16 (tol = 1.000e-08)\n",
      "  Newton solver finished in 1 iterations and 1 linear solver iterations.\n",
      "No Jacobian form specified for nonlinear variational problem.\n",
      "Differentiating residual form F to obtain Jacobian J = F'.\n",
      "Solving nonlinear variational problem.\n",
      "  Newton iteration 0: r (abs) = 2.579e+10 (tol = 1.000e-08) r (rel) = 1.000e+00 (tol = 1.000e-08)\n",
      "  Newton iteration 1: r (abs) = 7.139e+08 (tol = 1.000e-08) r (rel) = 2.768e-02 (tol = 1.000e-08)\n",
      "  Newton iteration 2: r (abs) = 4.912e+07 (tol = 1.000e-08) r (rel) = 1.904e-03 (tol = 1.000e-08)\n",
      "  Newton iteration 3: r (abs) = 9.114e+05 (tol = 1.000e-08) r (rel) = 3.533e-05 (tol = 1.000e-08)\n",
      "  Newton iteration 4: r (abs) = 4.807e+03 (tol = 1.000e-08) r (rel) = 1.863e-07 (tol = 1.000e-08)\n",
      "  Newton iteration 5: r (abs) = 9.388e-01 (tol = 1.000e-08) r (rel) = 3.640e-11 (tol = 1.000e-08)\n",
      "  Newton solver finished in 5 iterations and 5 linear solver iterations.\n"
     ]
    }
   ],
   "source": [
    "model = PerfusionGasExchangeModel(folder_path=path, params=params)\n",
    "model.import_mesh(os.path.join(\"../raw-data\", \"sphere_v2.xml\"), type=\"xml\")\n",
    "model.sim_p(save=True, meshtype=\"sphere\")\n",
    "boundaries = dolfin.File(model.folder_path+'/bnd/bnd.pvd')\n",
    "boundaries << model.boundaries\n",
    "x = model.sim_sbst(hb=False, save=False)\n",
    "solution = model.sim_sbst(hb=True, save=True, guess=x)"
   ]
  }
 ],
 "metadata": {
  "interpreter": {
   "hash": "916dbcbb3f70747c44a77c7bcd40155683ae19c65e1c03b4aa3499c5328201f1"
  },
  "kernelspec": {
   "display_name": "Python 3.8.10 64-bit",
   "name": "python3"
  },
  "language_info": {
   "codemirror_mode": {
    "name": "ipython",
    "version": 3
   },
   "file_extension": ".py",
   "mimetype": "text/x-python",
   "name": "python",
   "nbconvert_exporter": "python",
   "pygments_lexer": "ipython3",
   "version": "3.8.10"
  },
  "orig_nbformat": 4
 },
 "nbformat": 4,
 "nbformat_minor": 2
}
