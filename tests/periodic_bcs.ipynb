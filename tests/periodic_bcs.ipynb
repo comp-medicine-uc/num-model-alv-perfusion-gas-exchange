{
 "cells": [
  {
   "cell_type": "code",
   "execution_count": 1,
   "source": [
    "import sys\n",
    "import os\n",
    "import dolfin\n",
    "sys.path.append(os.getcwd()[:-6])"
   ],
   "outputs": [],
   "metadata": {}
  },
  {
   "cell_type": "code",
   "execution_count": 2,
   "source": [
    "from src.model import PerfusionGasExchangeModel\n",
    "from src.params import params"
   ],
   "outputs": [],
   "metadata": {}
  },
  {
   "cell_type": "code",
   "execution_count": 3,
   "source": [
    "folder = \"test-folder-prescribed-u\"\n",
    "path = os.path.join(\"../raw-data\", folder)"
   ],
   "outputs": [],
   "metadata": {}
  },
  {
   "cell_type": "code",
   "execution_count": 4,
   "source": [
    "model = PerfusionGasExchangeModel(folder_path=path, params=params)\n",
    "model.generate_slab_mesh(\n",
    "    dims=(200, 6, 200), elems=(40, 3, 30), save=True, periodic=True\n",
    ")\n",
    "model.sim_p(save=True)\n",
    "model.sim_bst(final_time=1, num_steps=5, save=True)"
   ],
   "outputs": [
    {
     "output_type": "stream",
     "name": "stdout",
     "text": [
      "Solving linear variational problem.\n",
      "No Jacobian form specified for nonlinear variational problem.\n",
      "Differentiating residual form F to obtain Jacobian J = F'.\n",
      "Solving nonlinear variational problem.\n",
      "  Newton iteration 0: r (abs) = 7.181e+05 (tol = 1.000e-10) r (rel) = 1.000e+00 (tol = 1.000e-09)\n",
      "  Newton iteration 1: r (abs) = 4.009e-09 (tol = 1.000e-10) r (rel) = 5.583e-15 (tol = 1.000e-09)\n",
      "  Newton solver finished in 1 iterations and 1 linear solver iterations.\n",
      "Finished time step 1/5 (20%)\n",
      "\n",
      "No Jacobian form specified for nonlinear variational problem.\n",
      "Differentiating residual form F to obtain Jacobian J = F'.\n",
      "Solving nonlinear variational problem.\n",
      "  Newton iteration 0: r (abs) = 1.606e+05 (tol = 1.000e-10) r (rel) = 1.000e+00 (tol = 1.000e-09)\n",
      "  Newton iteration 1: r (abs) = 3.125e-09 (tol = 1.000e-10) r (rel) = 1.946e-14 (tol = 1.000e-09)\n",
      "  Newton solver finished in 1 iterations and 1 linear solver iterations.\n",
      "Finished time step 2/5 (40%)\n",
      "\n",
      "No Jacobian form specified for nonlinear variational problem.\n",
      "Differentiating residual form F to obtain Jacobian J = F'.\n",
      "Solving nonlinear variational problem.\n",
      "  Newton iteration 0: r (abs) = 5.123e+04 (tol = 1.000e-10) r (rel) = 1.000e+00 (tol = 1.000e-09)Finished time step 3/5 (60%)\n",
      "\n",
      "  Newton iteration 1: r (abs) = 8.403e-10 (tol = 1.000e-10) r (rel) = 1.640e-14 (tol = 1.000e-09)\n",
      "  Newton solver finished in 1 iterations and 1 linear solver iterations.\n",
      "\n",
      "No Jacobian form specified for nonlinear variational problem.\n",
      "Differentiating residual form F to obtain Jacobian J = F'.\n",
      "Solving nonlinear variational problem.\n",
      "  Newton iteration 0: r (abs) = 1.240e+04 (tol = 1.000e-10) r (rel) = 1.000e+00 (tol = 1.000e-09)\n",
      "  Newton iteration 1: r (abs) = 4.045e-10 (tol = 1.000e-10) r (rel) = 3.262e-14 (tol = 1.000e-09)\n",
      "  Newton solver finished in 1 iterations and 1 linear solver iterations.\n",
      "Finished time step 4/5 (80%)\n",
      "\n",
      "No Jacobian form specified for nonlinear variational problem.\n",
      "Differentiating residual form F to obtain Jacobian J = F'.\n",
      "Solving nonlinear variational problem.\n",
      "  Newton iteration 0: r (abs) = 2.276e+03 (tol = 1.000e-10) r (rel) = 1.000e+00 (tol = 1.000e-09)\n",
      "  Newton iteration 1: r (abs) = 4.219e-10 (tol = 1.000e-10) r (rel) = 1.854e-13 (tol = 1.000e-09)\n",
      "  Newton solver finished in 1 iterations and 1 linear solver iterations.\n",
      "Finished time step 5/5 (100%)\n",
      "\n"
     ]
    }
   ],
   "metadata": {}
  },
  {
   "cell_type": "code",
   "execution_count": 5,
   "source": [
    "model.boundaries\n",
    "boundaries = dolfin.File(model.folder_path+'/bnd/bnd.pvd')\n",
    "boundaries << model.boundaries"
   ],
   "outputs": [],
   "metadata": {}
  },
  {
   "cell_type": "code",
   "execution_count": 9,
   "source": [
    "from ipygany import Scene, PolyMesh\n",
    "\n",
    "mesh = PolyMesh.from_vtk(os.path.join(model.folder_path, 'p/p000000.vtu'))\n",
    "mesh.default_color = 'gray'\n",
    "\n",
    "scene = Scene([mesh])\n",
    "scene"
   ],
   "outputs": [],
   "metadata": {}
  }
 ],
 "metadata": {
  "orig_nbformat": 4,
  "language_info": {
   "name": "python",
   "version": "3.8.2",
   "mimetype": "text/x-python",
   "codemirror_mode": {
    "name": "ipython",
    "version": 3
   },
   "pygments_lexer": "ipython3",
   "nbconvert_exporter": "python",
   "file_extension": ".py"
  },
  "kernelspec": {
   "name": "python3",
   "display_name": "Python 3.8.2 64-bit"
  },
  "interpreter": {
   "hash": "916dbcbb3f70747c44a77c7bcd40155683ae19c65e1c03b4aa3499c5328201f1"
  }
 },
 "nbformat": 4,
 "nbformat_minor": 2
}