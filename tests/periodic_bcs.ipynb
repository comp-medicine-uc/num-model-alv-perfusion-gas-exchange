{
 "cells": [
  {
   "cell_type": "markdown",
   "source": [
    "# Simulation with default parameters and periodic boundary conditions on slab mesh"
   ],
   "metadata": {}
  },
  {
   "cell_type": "markdown",
   "source": [
    "The following notebook outlines a sample simulation of the perfusion and gas exchange model on a periodic mesh mimicking an infinite sheet positioned between alveoli (an approximation to the 2D problem, collapsing the $\\boldsymbol{\\hat{z}}$ axis). We start without considering hemoglobin effects."
   ],
   "metadata": {}
  },
  {
   "cell_type": "markdown",
   "source": [
    "Import necessary packages and add the working directory to the system path."
   ],
   "metadata": {}
  },
  {
   "cell_type": "code",
   "execution_count": 1,
   "source": [
    "import sys\n",
    "import os\n",
    "import dolfin\n",
    "import pandas as pd\n",
    "import matplotlib.pyplot as plt\n",
    "from ipygany import Scene, PolyMesh, ColorBar, IsoColor\n",
    "from ipywidgets import Play, IntProgress, link, VBox\n",
    "plt.style.use('ggplot')\n",
    "sys.path.append(os.getcwd()[:-6])"
   ],
   "outputs": [],
   "metadata": {}
  },
  {
   "cell_type": "markdown",
   "source": [
    "Import the model modules."
   ],
   "metadata": {}
  },
  {
   "cell_type": "code",
   "execution_count": 2,
   "source": [
    "from src.model import PerfusionGasExchangeModel\n",
    "from src.params import params"
   ],
   "outputs": [],
   "metadata": {}
  },
  {
   "cell_type": "markdown",
   "source": [
    "Set a target folder for `vtk` files."
   ],
   "metadata": {}
  },
  {
   "cell_type": "code",
   "execution_count": 3,
   "source": [
    "folder = \"periodic-bcs-no-hb\"\n",
    "path = os.path.join(\"../raw-data\", folder)"
   ],
   "outputs": [],
   "metadata": {}
  },
  {
   "cell_type": "markdown",
   "source": [
    "Instance the model and run simulation."
   ],
   "metadata": {}
  },
  {
   "cell_type": "code",
   "execution_count": 4,
   "source": [
    "model = PerfusionGasExchangeModel(folder_path=path, params=params)\n",
    "model.generate_slab_mesh(\n",
    "    dims=(200, 6, 6), elems=(200, 6, 6), save=True, periodic=True\n",
    ")\n",
    "model.sim_p(save=True, meshtype=\"slab\")\n",
    "model.sim_bst(final_time=1, num_steps=5, save=True, hb=False)\n",
    "boundaries = dolfin.File(model.folder_path+'/bnd/bnd.pvd')\n",
    "boundaries << model.boundaries"
   ],
   "outputs": [
    {
     "output_type": "stream",
     "name": "stdout",
     "text": [
      "Solving linear variational problem.\n",
      "No Jacobian form specified for nonlinear variational problem.\n",
      "Differentiating residual form F to obtain Jacobian J = F'.\n",
      "Solving nonlinear variational problem.\n",
      "  Newton iteration 0: r (abs) = 8.726e+04 (tol = 1.000e-10) r (rel) = 1.000e+00 (tol = 1.000e-09)\n",
      "  Newton iteration 1: r (abs) = 2.293e-09 (tol = 1.000e-10) r (rel) = 2.628e-14 (tol = 1.000e-09)\n",
      "  Newton solver finished in 1 iterations and 1 linear solver iterations.\n",
      "Finished time step 1/5 (20%)\n",
      "\n",
      "No Jacobian form specified for nonlinear variational problem.\n",
      "Differentiating residual form F to obtain Jacobian J = F'.\n",
      "Solving nonlinear variational problem.\n",
      "  Newton iteration 0: r (abs) = 1.705e+01 (tol = 1.000e-10) r (rel) = 1.000e+00 (tol = 1.000e-09)\n",
      "  Newton iteration 1: r (abs) = 3.980e-10 (tol = 1.000e-10) r (rel) = 2.334e-11 (tol = 1.000e-09)\n",
      "  Newton solver finished in 1 iterations and 1 linear solver iterations.\n",
      "Finished time step 2/5 (40%)\n",
      "\n",
      "No Jacobian form specified for nonlinear variational problem.\n",
      "Differentiating residual form F to obtain Jacobian J = F'.\n",
      "Solving nonlinear variational problem.\n",
      "  Newton iteration 0: r (abs) = 1.368e+01 (tol = 1.000e-10) r (rel) = 1.000e+00 (tol = 1.000e-09)\n",
      "  Newton iteration 1: r (abs) = 3.909e-10 (tol = 1.000e-10) r (rel) = 2.859e-11 (tol = 1.000e-09)\n",
      "  Newton solver finished in 1 iterations and 1 linear solver iterations.\n",
      "Finished time step 3/5 (60%)\n",
      "\n",
      "No Jacobian form specified for nonlinear variational problem.\n",
      "Differentiating residual form F to obtain Jacobian J = F'.\n",
      "Solving nonlinear variational problem.\n",
      "  Newton iteration 0: r (abs) = 1.220e+01 (tol = 1.000e-10) r (rel) = 1.000e+00 (tol = 1.000e-09)\n",
      "  Newton iteration 1: r (abs) = 3.973e-10 (tol = 1.000e-10) r (rel) = 3.258e-11 (tol = 1.000e-09)\n",
      "  Newton solver finished in 1 iterations and 1 linear solver iterations.\n",
      "Finished time step 4/5 (80%)\n",
      "\n",
      "No Jacobian form specified for nonlinear variational problem.\n",
      "Differentiating residual form F to obtain Jacobian J = F'.\n",
      "Solving nonlinear variational problem.\n",
      "  Newton iteration 0: r (abs) = 1.128e+01 (tol = 1.000e-10) r (rel) = 1.000e+00 (tol = 1.000e-09)\n",
      "  Newton iteration 1: r (abs) = 3.926e-10 (tol = 1.000e-10) r (rel) = 3.479e-11 (tol = 1.000e-09)\n",
      "  Newton solver finished in 1 iterations and 1 linear solver iterations.\n",
      "Finished time step 5/5 (100%)\n",
      "\n"
     ]
    }
   ],
   "metadata": {}
  },
  {
   "cell_type": "markdown",
   "source": [
    "Visualize using `iygany`. As an example, we start with $p$. Currently, prior knowledge of the `vtu` file is needed to visualize this. There's probably a better way to do this."
   ],
   "metadata": {}
  },
  {
   "cell_type": "code",
   "execution_count": 5,
   "source": [
    "mesh = PolyMesh.from_vtk(os.path.join(model.folder_path, 'p/p000000.vtu'))\n",
    "iso = IsoColor(mesh, input='f_18', min=8, max=12)\n",
    "scene = Scene([iso])\n",
    "bar = ColorBar(iso)\n",
    "VBox(children=(scene, bar))"
   ],
   "outputs": [
    {
     "output_type": "display_data",
     "data": {
      "application/vnd.jupyter.widget-view+json": {
       "version_major": 2,
       "version_minor": 0,
       "model_id": "49a32cd7c8a84ccc8165ab0cafd9b9b0"
      },
      "text/plain": [
       "VBox(children=(Scene(children=[IsoColor(input='f_18', max=12.0, min=8.0, parent=PolyMesh(data=[Data(components…"
      ]
     },
     "metadata": {}
    }
   ],
   "metadata": {}
  },
  {
   "cell_type": "markdown",
   "source": [
    "Next we visualize $p_{\\text{O}_{2}}$."
   ],
   "metadata": {}
  },
  {
   "cell_type": "code",
   "execution_count": 6,
   "source": [
    "mesh_dynamic = PolyMesh.from_vtk(\n",
    "    os.path.join(model.folder_path, 'bst/pO2000000.vtu')\n",
    ")\n",
    "\n",
    "def load_step(change):\n",
    "    mesh_dynamic.reload(\n",
    "        os.path.join(model.folder_path, 'bst/pO20000{}.vtu').format(\n",
    "            str(change['new']).zfill(2)\n",
    "        ), reload_vertices=True\n",
    "    )\n",
    "\n",
    "play = Play(description='Step:', min=1, max=15, value=1)\n",
    "play.observe(load_step, names=['value'])\n",
    "\n",
    "progress = IntProgress(value=1, step=1, min=1, max=15)\n",
    "link((progress, 'value'), (play, 'value'))\n",
    "\n",
    "stepper = VBox((play, progress))\n",
    "iso = IsoColor(mesh_dynamic, input='f_48-0', min=40, max=100)\n",
    "bar = ColorBar(iso)\n",
    "scene = Scene([iso])\n",
    "\n",
    "VBox(children=(scene, stepper, bar))"
   ],
   "outputs": [
    {
     "output_type": "display_data",
     "data": {
      "application/vnd.jupyter.widget-view+json": {
       "version_major": 2,
       "version_minor": 0,
       "model_id": "674b626a61d2438386bed9aba571b7c0"
      },
      "text/plain": [
       "VBox(children=(Scene(children=[IsoColor(input='f_48-0', max=100.0, min=40.0, parent=PolyMesh(data=[Data(compon…"
      ]
     },
     "metadata": {}
    }
   ],
   "metadata": {}
  },
  {
   "cell_type": "markdown",
   "source": [
    "Use ParaView to extract data. This requires the pvpython environment or adding ParaView to the Python PATH."
   ],
   "metadata": {}
  },
  {
   "cell_type": "code",
   "execution_count": 7,
   "source": [
    "# trace generated using paraview version 5.7.0\n",
    "#\n",
    "# To ensure correct image size when batch processing, please search \n",
    "# for and uncomment the line `# renderView*.ViewSize = [*,*]`\n",
    "\n",
    "#### import the simple module from the paraview\n",
    "from paraview.simple import *\n",
    "#### disable automatic camera reset on 'Show'\n",
    "paraview.simple._DisableFirstRenderCameraReset()\n",
    "\n",
    "# get animation scene\n",
    "animationScene1 = GetAnimationScene()\n",
    "\n",
    "# get the time-keeper\n",
    "timeKeeper1 = GetTimeKeeper()\n",
    "\n",
    "# create a new 'PVD Reader'\n",
    "pO2pvd = PVDReader(FileName=\"\"\"\\\\\\\\wsl$\\\\Ubuntu\\\\home\\\\pzuritas\\\n",
    "um-model-alv-perfusion-gas-exchange\\\\raw-data\\\\periodic-bcs-no-hb\\\\bst\\\\pO2.pvd\"\"\")\n",
    "pO2pvd.PointArrays = ['f_48-0']\n",
    "\n",
    "# update animation scene based on data timesteps\n",
    "animationScene1.UpdateAnimationUsingDataTimeSteps()\n",
    "\n",
    "# get active view\n",
    "renderView1 = GetActiveViewOrCreate('RenderView')\n",
    "# uncomment following to set a specific view size\n",
    "# renderView1.ViewSize = [968, 504]\n",
    "\n",
    "# show data in view\n",
    "pO2pvdDisplay = Show(pO2pvd, renderView1)\n",
    "\n",
    "# get color transfer function/color map for 'f_480'\n",
    "f_480LUT = GetColorTransferFunction('f_480')\n",
    "f_480LUT.RGBPoints = [38.419171747562224, 0.231373, 0.298039, 0.752941, 39.20958587378111, 0.865003, 0.865003, 0.865003, 40.0, 0.705882, 0.0156863, 0.14902]\n",
    "f_480LUT.ScalarRangeInitialized = 1.0\n",
    "\n",
    "# get opacity transfer function/opacity map for 'f_480'\n",
    "f_480PWF = GetOpacityTransferFunction('f_480')\n",
    "f_480PWF.Points = [38.419171747562224, 0.0, 0.5, 0.0, 40.0, 1.0, 0.5, 0.0]\n",
    "f_480PWF.ScalarRangeInitialized = 1\n",
    "\n",
    "# trace defaults for the display properties.\n",
    "pO2pvdDisplay.Representation = 'Surface'\n",
    "pO2pvdDisplay.ColorArrayName = ['POINTS', 'f_48-0']\n",
    "pO2pvdDisplay.LookupTable = f_480LUT\n",
    "pO2pvdDisplay.OSPRayScaleArray = 'f_48-0'\n",
    "pO2pvdDisplay.OSPRayScaleFunction = 'PiecewiseFunction'\n",
    "pO2pvdDisplay.SelectOrientationVectors = 'None'\n",
    "pO2pvdDisplay.ScaleFactor = 20.0\n",
    "pO2pvdDisplay.SelectScaleArray = 'f_48-0'\n",
    "pO2pvdDisplay.GlyphType = 'Arrow'\n",
    "pO2pvdDisplay.GlyphTableIndexArray = 'f_48-0'\n",
    "pO2pvdDisplay.GaussianRadius = 1.0\n",
    "pO2pvdDisplay.SetScaleArray = ['POINTS', 'f_48-0']\n",
    "pO2pvdDisplay.ScaleTransferFunction = 'PiecewiseFunction'\n",
    "pO2pvdDisplay.OpacityArray = ['POINTS', 'f_48-0']\n",
    "pO2pvdDisplay.OpacityTransferFunction = 'PiecewiseFunction'\n",
    "pO2pvdDisplay.DataAxesGrid = 'GridAxesRepresentation'\n",
    "pO2pvdDisplay.PolarAxes = 'PolarAxesRepresentation'\n",
    "pO2pvdDisplay.ScalarOpacityFunction = f_480PWF\n",
    "pO2pvdDisplay.ScalarOpacityUnitDistance = 5.705047443703445\n",
    "pO2pvdDisplay.InputVectors = [None, '']\n",
    "\n",
    "# init the 'PiecewiseFunction' selected for 'OSPRayScaleFunction'\n",
    "pO2pvdDisplay.OSPRayScaleFunction.Points = [-1.4710778371729638, 0.0, 0.5, 0.0, 13.820882932333754, 1.0, 0.5, 0.0]\n",
    "\n",
    "# init the 'PiecewiseFunction' selected for 'ScaleTransferFunction'\n",
    "pO2pvdDisplay.ScaleTransferFunction.Points = [38.59429839920696, 0.0, 0.5, 0.0, 40.0, 1.0, 0.5, 0.0]\n",
    "\n",
    "# init the 'PiecewiseFunction' selected for 'OpacityTransferFunction'\n",
    "pO2pvdDisplay.OpacityTransferFunction.Points = [38.59429839920696, 0.0, 0.5, 0.0, 40.0, 1.0, 0.5, 0.0]\n",
    "\n",
    "# reset view to fit data\n",
    "renderView1.ResetCamera()\n",
    "\n",
    "# get the material library\n",
    "materialLibrary1 = GetMaterialLibrary()\n",
    "\n",
    "# show color bar/color legend\n",
    "pO2pvdDisplay.SetScalarBarVisibility(renderView1, True)\n",
    "\n",
    "# update the view to ensure updated data information\n",
    "renderView1.Update()\n",
    "\n",
    "# create a new 'Plot Over Line'\n",
    "plotOverLine1 = PlotOverLine(Input=pO2pvd,\n",
    "    Source='High Resolution Line Source')\n",
    "\n",
    "# init the 'High Resolution Line Source' selected for 'Source'\n",
    "plotOverLine1.Source.Point2 = [200.0, 6.0, 6.0]\n",
    "\n",
    "# show data in view\n",
    "plotOverLine1Display = Show(plotOverLine1, renderView1)\n",
    "\n",
    "# trace defaults for the display properties.\n",
    "plotOverLine1Display.Representation = 'Surface'\n",
    "plotOverLine1Display.ColorArrayName = ['POINTS', 'f_48-0']\n",
    "plotOverLine1Display.LookupTable = f_480LUT\n",
    "plotOverLine1Display.OSPRayScaleArray = 'f_48-0'\n",
    "plotOverLine1Display.OSPRayScaleFunction = 'PiecewiseFunction'\n",
    "plotOverLine1Display.SelectOrientationVectors = 'None'\n",
    "plotOverLine1Display.ScaleFactor = 20.0\n",
    "plotOverLine1Display.SelectScaleArray = 'f_48-0'\n",
    "plotOverLine1Display.GlyphType = 'Arrow'\n",
    "plotOverLine1Display.GlyphTableIndexArray = 'f_48-0'\n",
    "plotOverLine1Display.GaussianRadius = 1.0\n",
    "plotOverLine1Display.SetScaleArray = ['POINTS', 'f_48-0']\n",
    "plotOverLine1Display.ScaleTransferFunction = 'PiecewiseFunction'\n",
    "plotOverLine1Display.OpacityArray = ['POINTS', 'f_48-0']\n",
    "plotOverLine1Display.OpacityTransferFunction = 'PiecewiseFunction'\n",
    "plotOverLine1Display.DataAxesGrid = 'GridAxesRepresentation'\n",
    "plotOverLine1Display.PolarAxes = 'PolarAxesRepresentation'\n",
    "plotOverLine1Display.InputVectors = [None, '']\n",
    "\n",
    "# init the 'PiecewiseFunction' selected for 'OSPRayScaleFunction'\n",
    "plotOverLine1Display.OSPRayScaleFunction.Points = [-1.4710778371729638, 0.0, 0.5, 0.0, 13.820882932333754, 1.0, 0.5, 0.0]\n",
    "\n",
    "# init the 'PiecewiseFunction' selected for 'ScaleTransferFunction'\n",
    "plotOverLine1Display.ScaleTransferFunction.Points = [38.59448291006616, 0.0, 0.5, 0.0, 40.0, 1.0, 0.5, 0.0]\n",
    "\n",
    "# init the 'PiecewiseFunction' selected for 'OpacityTransferFunction'\n",
    "plotOverLine1Display.OpacityTransferFunction.Points = [38.59448291006616, 0.0, 0.5, 0.0, 40.0, 1.0, 0.5, 0.0]\n",
    "\n",
    "# Create a new 'Line Chart View'\n",
    "lineChartView1 = CreateView('XYChartView')\n",
    "# uncomment following to set a specific view size\n",
    "# lineChartView1.ViewSize = [400, 400]\n",
    "\n",
    "# show data in view\n",
    "plotOverLine1Display_1 = Show(plotOverLine1, lineChartView1)\n",
    "\n",
    "# trace defaults for the display properties.\n",
    "plotOverLine1Display_1.CompositeDataSetIndex = [0]\n",
    "plotOverLine1Display_1.UseIndexForXAxis = 0\n",
    "plotOverLine1Display_1.XArrayName = 'arc_length'\n",
    "plotOverLine1Display_1.SeriesVisibility = ['f_48-0']\n",
    "plotOverLine1Display_1.SeriesLabel = ['arc_length', 'arc_length', 'f_48-0', 'f_48-0', 'vtkValidPointMask', 'vtkValidPointMask', 'Points_X', 'Points_X', 'Points_Y', 'Points_Y', 'Points_Z', 'Points_Z', 'Points_Magnitude', 'Points_Magnitude']\n",
    "plotOverLine1Display_1.SeriesColor = ['arc_length', '0', '0', '0', 'f_48-0', '0.89', '0.1', '0.11', 'vtkValidPointMask', '0.22', '0.49', '0.72', 'Points_X', '0.3', '0.69', '0.29', 'Points_Y', '0.6', '0.31', '0.64', 'Points_Z', '1', '0.5', '0', 'Points_Magnitude', '0.65', '0.34', '0.16']\n",
    "plotOverLine1Display_1.SeriesPlotCorner = ['arc_length', '0', 'f_48-0', '0', 'vtkValidPointMask', '0', 'Points_X', '0', 'Points_Y', '0', 'Points_Z', '0', 'Points_Magnitude', '0']\n",
    "plotOverLine1Display_1.SeriesLabelPrefix = ''\n",
    "plotOverLine1Display_1.SeriesLineStyle = ['arc_length', '1', 'f_48-0', '1', 'vtkValidPointMask', '1', 'Points_X', '1', 'Points_Y', '1', 'Points_Z', '1', 'Points_Magnitude', '1']\n",
    "plotOverLine1Display_1.SeriesLineThickness = ['arc_length', '2', 'f_48-0', '2', 'vtkValidPointMask', '2', 'Points_X', '2', 'Points_Y', '2', 'Points_Z', '2', 'Points_Magnitude', '2']\n",
    "plotOverLine1Display_1.SeriesMarkerStyle = ['arc_length', '0', 'f_48-0', '0', 'vtkValidPointMask', '0', 'Points_X', '0', 'Points_Y', '0', 'Points_Z', '0', 'Points_Magnitude', '0']\n",
    "\n",
    "# get layout\n",
    "layout1 = GetLayoutByName(\"Layout #1\")\n",
    "\n",
    "# add view to a layout so it's visible in UI\n",
    "AssignViewToLayout(view=lineChartView1, layout=layout1, hint=0)\n",
    "\n",
    "# save data\n",
    "SaveData('//wsl$/Ubuntu/home/pzuritas/num-model-alv-perfusion-gas-exchange/raw-data/periodic-bcs-no-hb/bst/curve_middle_po2.csv', proxy=plotOverLine1)\n",
    "\n",
    "# update the view to ensure updated data information\n",
    "renderView1.Update()\n",
    "\n",
    "# update the view to ensure updated data information\n",
    "lineChartView1.Update()\n",
    "\n",
    "# set active view\n",
    "SetActiveView(renderView1)\n",
    "\n",
    "# save data\n",
    "SaveData('//wsl$/Ubuntu/home/pzuritas/num-model-alv-perfusion-gas-exchange/raw-data/periodic-bcs-no-hb/bst/curve_top_po2.csv', proxy=plotOverLine1)\n",
    "\n",
    "# update the view to ensure updated data information\n",
    "renderView1.Update()\n",
    "\n",
    "# update the view to ensure updated data information\n",
    "lineChartView1.Update()\n",
    "\n",
    "# set active view\n",
    "SetActiveView(lineChartView1)\n",
    "\n",
    "# save data\n",
    "SaveData('//wsl$/Ubuntu/home/pzuritas/num-model-alv-perfusion-gas-exchange/raw-data/periodic-bcs-no-hb/bst/curve_quarter_po2.csv', proxy=plotOverLine1)\n",
    "\n",
    "#### saving camera placements for all active views\n",
    "\n",
    "# current camera placement for renderView1\n",
    "renderView1.CameraPosition = [164.71178875203265, -34.876909608322535, -307.6813347598028]\n",
    "renderView1.CameraFocalPoint = [100.00000000000001, 2.999999999999995, 2.9999999999999627]\n",
    "renderView1.CameraViewUp = [0.050199956717279906, 0.9926011362790441, -0.11055744481098413]\n",
    "renderView1.CameraParallelScale = 100.08995953640904\n",
    "\n",
    "#### uncomment the following to render all views\n",
    "# RenderAllViews()\n",
    "# alternatively, if you want to write images, you can use SaveScreenshot(...)."
   ],
   "outputs": [
    {
     "output_type": "error",
     "ename": "ModuleNotFoundError",
     "evalue": "No module named 'paraview'",
     "traceback": [
      "\u001b[0;31m---------------------------------------------------------------------------\u001b[0m",
      "\u001b[0;31mModuleNotFoundError\u001b[0m                       Traceback (most recent call last)",
      "\u001b[0;32m/tmp/ipykernel_21959/1606574770.py\u001b[0m in \u001b[0;36m<module>\u001b[0;34m\u001b[0m\n\u001b[1;32m      5\u001b[0m \u001b[0;34m\u001b[0m\u001b[0m\n\u001b[1;32m      6\u001b[0m \u001b[0;31m#### import the simple module from the paraview\u001b[0m\u001b[0;34m\u001b[0m\u001b[0;34m\u001b[0m\u001b[0;34m\u001b[0m\u001b[0m\n\u001b[0;32m----> 7\u001b[0;31m \u001b[0;32mfrom\u001b[0m \u001b[0mparaview\u001b[0m\u001b[0;34m.\u001b[0m\u001b[0msimple\u001b[0m \u001b[0;32mimport\u001b[0m \u001b[0;34m*\u001b[0m\u001b[0;34m\u001b[0m\u001b[0;34m\u001b[0m\u001b[0m\n\u001b[0m\u001b[1;32m      8\u001b[0m \u001b[0;31m#### disable automatic camera reset on 'Show'\u001b[0m\u001b[0;34m\u001b[0m\u001b[0;34m\u001b[0m\u001b[0;34m\u001b[0m\u001b[0m\n\u001b[1;32m      9\u001b[0m \u001b[0mparaview\u001b[0m\u001b[0;34m.\u001b[0m\u001b[0msimple\u001b[0m\u001b[0;34m.\u001b[0m\u001b[0m_DisableFirstRenderCameraReset\u001b[0m\u001b[0;34m(\u001b[0m\u001b[0;34m)\u001b[0m\u001b[0;34m\u001b[0m\u001b[0;34m\u001b[0m\u001b[0m\n",
      "\u001b[0;31mModuleNotFoundError\u001b[0m: No module named 'paraview'"
     ]
    }
   ],
   "metadata": {}
  },
  {
   "cell_type": "markdown",
   "source": [
    "Read data into CSV files. We take the oxygen partial pressure along the capillary at three different heights ($y$)."
   ],
   "metadata": {}
  },
  {
   "cell_type": "code",
   "execution_count": 8,
   "source": [
    "middle = pd.read_csv(\n",
    "    '../raw-data/periodic-bcs-no-hb/bst/curve_middle_po2.csv'\n",
    ")\n",
    "quarter = pd.read_csv(\n",
    "    '../raw-data/periodic-bcs-no-hb/bst/curve_quarter_po2.csv'\n",
    ")\n",
    "top = pd.read_csv(\n",
    "    '../raw-data/periodic-bcs-no-hb/bst/curve_top_po2.csv'\n",
    ")"
   ],
   "outputs": [],
   "metadata": {}
  },
  {
   "cell_type": "markdown",
   "source": [
    "And we visualize the results"
   ],
   "metadata": {}
  },
  {
   "cell_type": "code",
   "execution_count": null,
   "source": [
    "os.makedirs(os.path.join('../results-data/', folder))"
   ],
   "outputs": [],
   "metadata": {}
  },
  {
   "cell_type": "code",
   "execution_count": 12,
   "source": [
    "plt.figure()\n",
    "plt.title('oxygen partial pressure along the capillary')\n",
    "plt.ylabel(r'$p_{O_2}$ [mmHg]')\n",
    "plt.xlabel(r'distance along capillary [$\\mu$m]')\n",
    "plt.plot(\n",
    "    quarter[\"arc_length\"], quarter[\"f_48-0\"], label=r'$y=4.5 \\; \\mu$m'\n",
    ")\n",
    "plt.plot(\n",
    "    middle[\"arc_length\"], middle[\"f_48-0\"], label=r'$y=3 \\; \\mu$m'\n",
    ")\n",
    "plt.plot(\n",
    "    top[\"arc_length\"], top[\"f_48-0\"], label=r'$y=6 \\; \\mu$m'\n",
    ")\n",
    "plt.legend()\n",
    "plt.savefig(os.path.join('../results-data/', folder, 'po2_along_cap.pdf'))"
   ],
   "outputs": [
    {
     "output_type": "display_data",
     "data": {
      "image/png": "[encoded data removed]",
      "text/plain": [
       "<Figure size 432x288 with 1 Axes>"
      ]
     },
     "metadata": {}
    }
   ],
   "metadata": {}
  }
 ],
 "metadata": {
  "orig_nbformat": 4,
  "language_info": {
   "name": "python",
   "version": "3.8.2",
   "mimetype": "text/x-python",
   "codemirror_mode": {
    "name": "ipython",
    "version": 3
   },
   "pygments_lexer": "ipython3",
   "nbconvert_exporter": "python",
   "file_extension": ".py"
  },
  "kernelspec": {
   "name": "python3",
   "display_name": "Python 3.8.2 64-bit"
  },
  "interpreter": {
   "hash": "916dbcbb3f70747c44a77c7bcd40155683ae19c65e1c03b4aa3499c5328201f1"
  }
 },
 "nbformat": 4,
 "nbformat_minor": 2
}