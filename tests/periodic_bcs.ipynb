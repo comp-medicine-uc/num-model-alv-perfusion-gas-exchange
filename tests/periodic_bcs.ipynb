{
 "cells": [
  {
   "cell_type": "markdown",
   "source": [
    "# Simulation with default parameters and periodic boundary conditions on slab mesh"
   ],
   "metadata": {}
  },
  {
   "cell_type": "markdown",
   "source": [
    "The following notebook outlines a sample simulation of the perfusion and gas exchange model on a periodic mesh mimicking an infinite sheet positioned between alveoli (an approximation to the 2D problem, collapsing the $\\boldsymbol{\\hat{z}}$ axis). We start without considering hemoglobin effects."
   ],
   "metadata": {}
  },
  {
   "cell_type": "markdown",
   "source": [
    "Import necessary packages and add the working directory to the system path."
   ],
   "metadata": {}
  },
  {
   "cell_type": "code",
   "execution_count": 41,
   "source": [
    "import sys\n",
    "import os\n",
    "import dolfin\n",
    "from ipygany import Scene, PolyMesh, ColorBar, IsoColor\n",
    "from ipywidgets import Play, IntProgress, link, VBox\n",
    "sys.path.append(os.getcwd()[:-6])"
   ],
   "outputs": [],
   "metadata": {}
  },
  {
   "cell_type": "markdown",
   "source": [
    "Import the model modules."
   ],
   "metadata": {}
  },
  {
   "cell_type": "code",
   "execution_count": 42,
   "source": [
    "from src.model import PerfusionGasExchangeModel\n",
    "from src.params import params"
   ],
   "outputs": [],
   "metadata": {}
  },
  {
   "cell_type": "markdown",
   "source": [
    "Set a target folder for `vtk` files."
   ],
   "metadata": {}
  },
  {
   "cell_type": "code",
   "execution_count": 18,
   "source": [
    "folder = \"periodic-bcs\"\n",
    "path = os.path.join(\"../raw-data\", folder)"
   ],
   "outputs": [],
   "metadata": {}
  },
  {
   "cell_type": "markdown",
   "source": [
    "Instance the model and run simulation."
   ],
   "metadata": {}
  },
  {
   "cell_type": "code",
   "execution_count": 19,
   "source": [
    "model = PerfusionGasExchangeModel(folder_path=path, params=params)\n",
    "model.generate_slab_mesh(\n",
    "    dims=(200, 6, 10), elems=(100, 6, 10), save=True, periodic=True\n",
    ")\n",
    "model.sim_p(save=True)\n",
    "model.sim_bst(final_time=1, num_steps=15, save=True, hb=False)"
   ],
   "outputs": [
    {
     "output_type": "stream",
     "name": "stdout",
     "text": [
      "Solving linear variational problem.\n",
      "No Jacobian form specified for nonlinear variational problem.Calling FFC just-in-time (JIT) compiler, this may take some time.\n",
      "\n",
      "Differentiating residual form F to obtain Jacobian J = F'.\n",
      "Calling FFC just-in-time (JIT) compiler, this may take some time.\n",
      "Solving nonlinear variational problem.\n",
      "  Newton iteration 0: r (abs) = 1.190e+04 (tol = 1.000e-10) r (rel) = 1.000e+00 (tol = 1.000e-09)\n",
      "  Newton iteration 1: r (abs) = 7.146e-10 (tol = 1.000e-10) r (rel) = 6.005e-14 (tol = 1.000e-09)\n",
      "  Newton solver finished in 1 iterations and 1 linear solver iterations.\n",
      "Finished time step 1/15 (7%)\n",
      "\n",
      "No Jacobian form specified for nonlinear variational problem.\n",
      "Differentiating residual form F to obtain Jacobian J = F'.\n",
      "Solving nonlinear variational problem.\n",
      "  Newton iteration 0: r (abs) = 4.276e+03 (tol = 1.000e-10) r (rel) = 1.000e+00 (tol = 1.000e-09)\n",
      "  Newton iteration 1: r (abs) = 3.733e-10 (tol = 1.000e-10) r (rel) = 8.729e-14 (tol = 1.000e-09)\n",
      "  Newton solver finished in 1 iterations and 1 linear solver iterations.\n",
      "Finished time step 2/15 (13%)\n",
      "\n",
      "No Jacobian form specified for nonlinear variational problem.\n",
      "Differentiating residual form F to obtain Jacobian J = F'.\n",
      "Solving nonlinear variational problem.\n",
      "  Newton iteration 0: r (abs) = 2.650e+03 (tol = 1.000e-10) r (rel) = 1.000e+00 (tol = 1.000e-09)\n",
      "  Newton iteration 1: r (abs) = 2.230e-10 (tol = 1.000e-10) r (rel) = 8.417e-14 (tol = 1.000e-09)\n",
      "  Newton solver finished in 1 iterations and 1 linear solver iterations.\n",
      "Finished time step 3/15 (20%)\n",
      "\n",
      "No Jacobian form specified for nonlinear variational problem.\n",
      "Differentiating residual form F to obtain Jacobian J = F'.\n",
      "Solving nonlinear variational problem.\n",
      "  Newton iteration 0: r (abs) = 1.574e+03 (tol = 1.000e-10) r (rel) = 1.000e+00 (tol = 1.000e-09)\n",
      "  Newton iteration 1: r (abs) = 1.041e-10 (tol = 1.000e-10) r (rel) = 6.613e-14 (tol = 1.000e-09)\n",
      "  Newton solver finished in 1 iterations and 1 linear solver iterations.\n",
      "Finished time step 4/15 (27%)\n",
      "\n",
      "No Jacobian form specified for nonlinear variational problem.\n",
      "Differentiating residual form F to obtain Jacobian J = F'.\n",
      "Solving nonlinear variational problem.\n",
      "  Newton iteration 0: r (abs) = 7.790e+02 (tol = 1.000e-10) r (rel) = 1.000e+00 (tol = 1.000e-09)\n",
      "  Newton iteration 1: r (abs) = 4.501e-11 (tol = 1.000e-10) r (rel) = 5.777e-14 (tol = 1.000e-09)\n",
      "  Newton solver finished in 1 iterations and 1 linear solver iterations.\n",
      "Finished time step 5/15 (33%)\n",
      "\n",
      "No Jacobian form specified for nonlinear variational problem.\n",
      "Differentiating residual form F to obtain Jacobian J = F'.\n",
      "Solving nonlinear variational problem.\n",
      "  Newton iteration 0: r (abs) = 3.212e+02 (tol = 1.000e-10) r (rel) = 1.000e+00 (tol = 1.000e-09)\n",
      "  Newton iteration 1: r (abs) = 2.082e-11 (tol = 1.000e-10) r (rel) = 6.482e-14 (tol = 1.000e-09)\n",
      "  Newton solver finished in 1 iterations and 1 linear solver iterations.\n",
      "Finished time step 6/15 (40%)\n",
      "\n",
      "No Jacobian form specified for nonlinear variational problem.\n",
      "Differentiating residual form F to obtain Jacobian J = F'.\n",
      "Solving nonlinear variational problem.\n",
      "  Newton iteration 0: r (abs) = 1.126e+02 (tol = 1.000e-10) r (rel) = 1.000e+00 (tol = 1.000e-09)\n",
      "  Newton iteration 1: r (abs) = 1.484e-11 (tol = 1.000e-10) r (rel) = 1.318e-13 (tol = 1.000e-09)\n",
      "  Newton solver finished in 1 iterations and 1 linear solver iterations.\n",
      "Finished time step 7/15 (47%)\n",
      "\n",
      "No Jacobian form specified for nonlinear variational problem.\n",
      "Differentiating residual form F to obtain Jacobian J = F'.\n",
      "Solving nonlinear variational problem.\n",
      "  Newton iteration 0: r (abs) = 3.424e+01 (tol = 1.000e-10) r (rel) = 1.000e+00 (tol = 1.000e-09)Finished time step 8/15 (53%)\n",
      "\n",
      "  Newton iteration 1: r (abs) = 1.392e-11 (tol = 1.000e-10) r (rel) = 4.065e-13 (tol = 1.000e-09)\n",
      "  Newton solver finished in 1 iterations and 1 linear solver iterations.\n",
      "\n",
      "No Jacobian form specified for nonlinear variational problem.\n",
      "Differentiating residual form F to obtain Jacobian J = F'.\n",
      "Solving nonlinear variational problem.\n",
      "  Newton iteration 0: r (abs) = 9.191e+00 (tol = 1.000e-10) r (rel) = 1.000e+00 (tol = 1.000e-09)\n",
      "  Newton iteration 1: r (abs) = 1.375e-11 (tol = 1.000e-10) r (rel) = 1.496e-12 (tol = 1.000e-09)\n",
      "  Newton solver finished in 1 iterations and 1 linear solver iterations.\n",
      "Finished time step 9/15 (60%)\n",
      "\n",
      "No Jacobian form specified for nonlinear variational problem.\n",
      "Differentiating residual form F to obtain Jacobian J = F'.\n",
      "Solving nonlinear variational problem.\n",
      "  Newton iteration 0: r (abs) = 2.210e+00 (tol = 1.000e-10) r (rel) = 1.000e+00 (tol = 1.000e-09)\n",
      "  Newton iteration 1: r (abs) = 1.286e-11 (tol = 1.000e-10) r (rel) = 5.818e-12 (tol = 1.000e-09)\n",
      "  Newton solver finished in 1 iterations and 1 linear solver iterations.\n",
      "Finished time step 10/15 (67%)\n",
      "\n",
      "No Jacobian form specified for nonlinear variational problem.\n",
      "Differentiating residual form F to obtain Jacobian J = F'.\n",
      "Solving nonlinear variational problem.\n",
      "  Newton iteration 0: r (abs) = 4.817e-01 (tol = 1.000e-10) r (rel) = 1.000e+00 (tol = 1.000e-09)\n",
      "  Newton iteration 1: r (abs) = 1.337e-11 (tol = 1.000e-10) r (rel) = 2.775e-11 (tol = 1.000e-09)\n",
      "  Newton solver finished in 1 iterations and 1 linear solver iterations.\n",
      "Finished time step 11/15 (73%)\n",
      "\n",
      "No Jacobian form specified for nonlinear variational problem.\n",
      "Differentiating residual form F to obtain Jacobian J = F'.\n",
      "Solving nonlinear variational problem.\n",
      "  Newton iteration 0: r (abs) = 9.615e-02 (tol = 1.000e-10) r (rel) = 1.000e+00 (tol = 1.000e-09)\n",
      "  Newton iteration 1: r (abs) = 1.347e-11 (tol = 1.000e-10) r (rel) = 1.401e-10 (tol = 1.000e-09)\n",
      "  Newton solver finished in 1 iterations and 1 linear solver iterations.\n",
      "Finished time step 12/15 (80%)\n",
      "\n",
      "No Jacobian form specified for nonlinear variational problem.\n",
      "Differentiating residual form F to obtain Jacobian J = F'.\n",
      "Solving nonlinear variational problem.\n",
      "  Newton iteration 0: r (abs) = 1.772e-02 (tol = 1.000e-10) r (rel) = 1.000e+00 (tol = 1.000e-09)\n",
      "  Newton iteration 1: r (abs) = 1.390e-11 (tol = 1.000e-10) r (rel) = 7.842e-10 (tol = 1.000e-09)\n",
      "  Newton solver finished in 1 iterations and 1 linear solver iterations.\n",
      "Finished time step 13/15 (87%)\n",
      "\n",
      "No Jacobian form specified for nonlinear variational problem.\n",
      "Differentiating residual form F to obtain Jacobian J = F'.\n",
      "Solving nonlinear variational problem.\n",
      "  Newton iteration 0: r (abs) = 3.037e-03 (tol = 1.000e-10) r (rel) = 1.000e+00 (tol = 1.000e-09)\n",
      "  Newton iteration 1: r (abs) = 1.503e-11 (tol = 1.000e-10) r (rel) = 4.948e-09 (tol = 1.000e-09)\n",
      "  Newton solver finished in 1 iterations and 1 linear solver iterations.\n",
      "Finished time step 14/15 (93%)\n",
      "\n",
      "No Jacobian form specified for nonlinear variational problem.\n",
      "Differentiating residual form F to obtain Jacobian J = F'.\n",
      "Solving nonlinear variational problem.\n",
      "  Newton iteration 0: r (abs) = 4.871e-04 (tol = 1.000e-10) r (rel) = 1.000e+00 (tol = 1.000e-09)\n",
      "  Newton iteration 1: r (abs) = 1.439e-11 (tol = 1.000e-10) r (rel) = 2.954e-08 (tol = 1.000e-09)\n",
      "  Newton solver finished in 1 iterations and 1 linear solver iterations.\n",
      "Finished time step 15/15 (100%)\n",
      "\n"
     ]
    }
   ],
   "metadata": {}
  },
  {
   "cell_type": "markdown",
   "source": [
    "Visualize using `iygany`. As an example, we start with $p$. Currently, prior knowledge of the `vtu` file is needed to visualize this. There's probably a better way to do this."
   ],
   "metadata": {}
  },
  {
   "cell_type": "code",
   "execution_count": 44,
   "source": [
    "mesh = PolyMesh.from_vtk(os.path.join(model.folder_path, 'p/p000000.vtu'))\n",
    "iso = IsoColor(mesh, input='f_1176', min=8, max=12)\n",
    "scene = Scene([iso])\n",
    "bar = ColorBar(iso)\n",
    "VBox(children=(scene, bar))"
   ],
   "outputs": [
    {
     "output_type": "display_data",
     "data": {
      "text/plain": [
       "VBox(children=(Scene(children=[IsoColor(input='f_1176', max=12.0, min=8.0, parent=PolyMesh(data=[Data(componen…"
      ],
      "application/vnd.jupyter.widget-view+json": {
       "version_major": 2,
       "version_minor": 0,
       "model_id": "e28c99fb7fca4168bea11a7121aaceb3"
      }
     },
     "metadata": {}
    }
   ],
   "metadata": {}
  },
  {
   "cell_type": "markdown",
   "source": [
    "Next we visualize $p_{\\text{O}_{2}}$."
   ],
   "metadata": {}
  },
  {
   "cell_type": "code",
   "execution_count": 48,
   "source": [
    "mesh_dynamic = PolyMesh.from_vtk(\n",
    "    os.path.join(model.folder_path, 'bst/pO2000000.vtu')\n",
    ")\n",
    "\n",
    "def load_step(change):\n",
    "    mesh_dynamic.reload(\n",
    "        os.path.join(model.folder_path, 'bst/pO20000{}.vtu').format(\n",
    "            str(change['new']).zfill(2)\n",
    "        ), reload_vertices=True\n",
    "    )\n",
    "\n",
    "play = Play(description='Step:', min=1, max=15, value=1)\n",
    "play.observe(load_step, names=['value'])\n",
    "\n",
    "progress = IntProgress(value=1, step=1, min=1, max=15)\n",
    "link((progress, 'value'), (play, 'value'))\n",
    "\n",
    "stepper = HBox((play, progress))\n",
    "iso = IsoColor(mesh_dynamic, input='f_1206-0', min=0, max=120)\n",
    "bar = ColorBar(iso)\n",
    "scene = Scene([iso])\n",
    "\n",
    "VBox(children=(scene, stepper, bar))"
   ],
   "outputs": [
    {
     "output_type": "display_data",
     "data": {
      "text/plain": [
       "VBox(children=(Scene(children=[IsoColor(input='f_1206-0', max=120.0, parent=PolyMesh(data=[Data(components=[Co…"
      ],
      "application/vnd.jupyter.widget-view+json": {
       "version_major": 2,
       "version_minor": 0,
       "model_id": "547ff1271684469e99d09b0b78bf86d8"
      }
     },
     "metadata": {}
    }
   ],
   "metadata": {}
  }
 ],
 "metadata": {
  "orig_nbformat": 4,
  "language_info": {
   "name": "python",
   "version": "3.8.2",
   "mimetype": "text/x-python",
   "codemirror_mode": {
    "name": "ipython",
    "version": 3
   },
   "pygments_lexer": "ipython3",
   "nbconvert_exporter": "python",
   "file_extension": ".py"
  },
  "kernelspec": {
   "name": "python3",
   "display_name": "Python 3.8.2 64-bit"
  },
  "interpreter": {
   "hash": "916dbcbb3f70747c44a77c7bcd40155683ae19c65e1c03b4aa3499c5328201f1"
  }
 },
 "nbformat": 4,
 "nbformat_minor": 2
}